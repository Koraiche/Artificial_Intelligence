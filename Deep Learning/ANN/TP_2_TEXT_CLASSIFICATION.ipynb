{
 "cells": [
  {
   "cell_type": "code",
   "execution_count": 1,
   "id": "0fae8d00",
   "metadata": {},
   "outputs": [],
   "source": [
    "import matplotlib.pyplot as plt\n",
    "import os\n",
    "import re\n",
    "import shutil\n",
    "import string\n",
    "import tensorflow as tf\n",
    "from tensorflow import keras\n",
    "from tensorflow.keras import layers\n",
    "from tensorflow.keras import losses"
   ]
  },
  {
   "cell_type": "code",
   "execution_count": 2,
   "id": "4ef551dd",
   "metadata": {},
   "outputs": [],
   "source": [
    "data = keras.datasets.imdb"
   ]
  },
  {
   "cell_type": "code",
   "execution_count": 20,
   "id": "df08c9f0",
   "metadata": {},
   "outputs": [],
   "source": [
    "(train_data,train_labels),(test_data,test_labels) = data.load_data(num_words=88000)"
   ]
  },
  {
   "cell_type": "code",
   "execution_count": 21,
   "id": "89e9bc8d",
   "metadata": {},
   "outputs": [
    {
     "name": "stdout",
     "output_type": "stream",
     "text": [
      "[1, 14, 22, 16, 43, 530, 973, 1622, 1385, 65, 458, 4468, 66, 3941, 4, 173, 36, 256, 5, 25, 100, 43, 838, 112, 50, 670, 22665, 9, 35, 480, 284, 5, 150, 4, 172, 112, 167, 21631, 336, 385, 39, 4, 172, 4536, 1111, 17, 546, 38, 13, 447, 4, 192, 50, 16, 6, 147, 2025, 19, 14, 22, 4, 1920, 4613, 469, 4, 22, 71, 87, 12, 16, 43, 530, 38, 76, 15, 13, 1247, 4, 22, 17, 515, 17, 12, 16, 626, 18, 19193, 5, 62, 386, 12, 8, 316, 8, 106, 5, 4, 2223, 5244, 16, 480, 66, 3785, 33, 4, 130, 12, 16, 38, 619, 5, 25, 124, 51, 36, 135, 48, 25, 1415, 33, 6, 22, 12, 215, 28, 77, 52, 5, 14, 407, 16, 82, 10311, 8, 4, 107, 117, 5952, 15, 256, 4, 31050, 7, 3766, 5, 723, 36, 71, 43, 530, 476, 26, 400, 317, 46, 7, 4, 12118, 1029, 13, 104, 88, 4, 381, 15, 297, 98, 32, 2071, 56, 26, 141, 6, 194, 7486, 18, 4, 226, 22, 21, 134, 476, 26, 480, 5, 144, 30, 5535, 18, 51, 36, 28, 224, 92, 25, 104, 4, 226, 65, 16, 38, 1334, 88, 12, 16, 283, 5, 16, 4472, 113, 103, 32, 15, 16, 5345, 19, 178, 32]\n"
     ]
    }
   ],
   "source": [
    "print(train_data[0])"
   ]
  },
  {
   "cell_type": "code",
   "execution_count": 22,
   "id": "f6b48322",
   "metadata": {},
   "outputs": [],
   "source": [
    "word_index = keras.datasets.imdb.get_word_index()"
   ]
  },
  {
   "cell_type": "code",
   "execution_count": 23,
   "id": "a9b10da3",
   "metadata": {},
   "outputs": [],
   "source": [
    "word_index = {k:(v+3) for k,v in word_index.items()}"
   ]
  },
  {
   "cell_type": "code",
   "execution_count": 24,
   "id": "4a57a155",
   "metadata": {},
   "outputs": [],
   "source": [
    "word_index[\"<PAD>\"] = 0\n",
    "word_index[\"<START>\"] = 1\n",
    "word_index[\"<UNK>\"] = 2\n",
    "word_index[\"<UNUSED>\"] = 3\n"
   ]
  },
  {
   "cell_type": "code",
   "execution_count": 25,
   "id": "57b66a50",
   "metadata": {},
   "outputs": [],
   "source": [
    "reverse_word_index = dict(\n",
    "    [(value, key) for (key,value) in word_index.items()]\n",
    ")"
   ]
  },
  {
   "cell_type": "code",
   "execution_count": 26,
   "id": "d0451ff1",
   "metadata": {},
   "outputs": [],
   "source": [
    "def decode_review(text):\n",
    "    return \" \".join([reverse_word_index.get(i,\"?\") for i in text])"
   ]
  },
  {
   "cell_type": "code",
   "execution_count": 27,
   "id": "7400d788",
   "metadata": {},
   "outputs": [
    {
     "name": "stdout",
     "output_type": "stream",
     "text": [
      "[1, 591, 202, 14, 31, 6, 717, 10, 10, 18142, 10698, 5, 4, 360, 7, 4, 177, 5760, 394, 354, 4, 123, 9, 1035, 1035, 1035, 10, 10, 13, 92, 124, 89, 488, 7944, 100, 28, 1668, 14, 31, 23, 27, 7479, 29, 220, 468, 8, 124, 14, 286, 170, 8, 157, 46, 5, 27, 239, 16, 179, 15387, 38, 32, 25, 7944, 451, 202, 14, 6, 717]\n",
      "<START> please give this one a miss br br kristy swanson and the rest of the cast rendered terrible performances the show is flat flat flat br br i don't know how michael madison could have allowed this one on his plate he almost seemed to know this wasn't going to work out and his performance was quite lacklustre so all you madison fans give this a miss\n"
     ]
    }
   ],
   "source": [
    "print(test_data[0])\n",
    "print(decode_review(test_data[0]))"
   ]
  },
  {
   "cell_type": "code",
   "execution_count": 28,
   "id": "5db07731",
   "metadata": {},
   "outputs": [
    {
     "name": "stdout",
     "output_type": "stream",
     "text": [
      "25000 25000\n"
     ]
    }
   ],
   "source": [
    "print(len(train_data),len(test_data))"
   ]
  },
  {
   "cell_type": "code",
   "execution_count": 29,
   "id": "34385362",
   "metadata": {},
   "outputs": [],
   "source": [
    "train_data = keras.preprocessing.sequence.pad_sequences(train_data, value=word_index[\"<PAD>\"], padding=\"post\", maxlen=250)\n",
    "test_data = keras.preprocessing.sequence.pad_sequences(test_data, value=word_index[\"<PAD>\"], padding=\"post\", maxlen=250)"
   ]
  },
  {
   "cell_type": "code",
   "execution_count": 30,
   "id": "08012b69",
   "metadata": {},
   "outputs": [
    {
     "name": "stdout",
     "output_type": "stream",
     "text": [
      "250 250 250 250 250 250\n"
     ]
    }
   ],
   "source": [
    "print(len(test_data[0]),len(test_data[1]),len(test_data[2]),len(test_data[3]),len(test_data[4]),len(test_data[5]))"
   ]
  },
  {
   "cell_type": "code",
   "execution_count": 31,
   "id": "18dbe8d8",
   "metadata": {},
   "outputs": [],
   "source": [
    "model = keras.Sequential()\n",
    "model.add(keras.layers.Embedding(88000,16))\n",
    "model.add(keras.layers.GlobalAveragePooling1D())\n",
    "model.add(keras.layers.Dense(16,activation=\"relu\"))\n",
    "model.add(keras.layers.Dense(1,activation=\"sigmoid\"))#is review good or bad => 0 or 1"
   ]
  },
  {
   "cell_type": "code",
   "execution_count": 32,
   "id": "1caf784a",
   "metadata": {},
   "outputs": [
    {
     "name": "stdout",
     "output_type": "stream",
     "text": [
      "Model: \"sequential_1\"\n",
      "_________________________________________________________________\n",
      "Layer (type)                 Output Shape              Param #   \n",
      "=================================================================\n",
      "embedding_1 (Embedding)      (None, None, 16)          1408000   \n",
      "_________________________________________________________________\n",
      "global_average_pooling1d_1 ( (None, 16)                0         \n",
      "_________________________________________________________________\n",
      "dense_2 (Dense)              (None, 16)                272       \n",
      "_________________________________________________________________\n",
      "dense_3 (Dense)              (None, 1)                 17        \n",
      "=================================================================\n",
      "Total params: 1,408,289\n",
      "Trainable params: 1,408,289\n",
      "Non-trainable params: 0\n",
      "_________________________________________________________________\n"
     ]
    }
   ],
   "source": [
    "model.summary()"
   ]
  },
  {
   "cell_type": "code",
   "execution_count": 33,
   "id": "fd3cf3f1",
   "metadata": {},
   "outputs": [],
   "source": [
    "model.compile(optimizer=\"adam\", loss=\"binary_crossentropy\", metrics=[\"accuracy\"])"
   ]
  },
  {
   "cell_type": "code",
   "execution_count": 34,
   "id": "277a29af",
   "metadata": {},
   "outputs": [
    {
     "name": "stdout",
     "output_type": "stream",
     "text": [
      "Epoch 1/40\n",
      "30/30 [==============================] - 1s 34ms/step - loss: 0.6921 - accuracy: 0.5412 - val_loss: 0.6905 - val_accuracy: 0.5101\n",
      "Epoch 2/40\n",
      "30/30 [==============================] - 1s 30ms/step - loss: 0.6870 - accuracy: 0.6501 - val_loss: 0.6837 - val_accuracy: 0.6984\n",
      "Epoch 3/40\n",
      "30/30 [==============================] - 1s 35ms/step - loss: 0.6763 - accuracy: 0.6946 - val_loss: 0.6706 - val_accuracy: 0.7521\n",
      "Epoch 4/40\n",
      "30/30 [==============================] - 1s 29ms/step - loss: 0.6569 - accuracy: 0.7709 - val_loss: 0.6489 - val_accuracy: 0.7672\n",
      "Epoch 5/40\n",
      "30/30 [==============================] - 1s 29ms/step - loss: 0.6273 - accuracy: 0.8003 - val_loss: 0.6185 - val_accuracy: 0.7886\n",
      "Epoch 6/40\n",
      "30/30 [==============================] - 1s 32ms/step - loss: 0.5881 - accuracy: 0.8193 - val_loss: 0.5814 - val_accuracy: 0.8028\n",
      "Epoch 7/40\n",
      "30/30 [==============================] - 1s 33ms/step - loss: 0.5427 - accuracy: 0.8360 - val_loss: 0.5413 - val_accuracy: 0.8173\n",
      "Epoch 8/40\n",
      "30/30 [==============================] - 1s 29ms/step - loss: 0.4945 - accuracy: 0.8572 - val_loss: 0.5010 - val_accuracy: 0.8291\n",
      "Epoch 9/40\n",
      "30/30 [==============================] - 1s 32ms/step - loss: 0.4475 - accuracy: 0.8717 - val_loss: 0.4632 - val_accuracy: 0.8390\n",
      "Epoch 10/40\n",
      "30/30 [==============================] - 1s 33ms/step - loss: 0.4031 - accuracy: 0.8863 - val_loss: 0.4282 - val_accuracy: 0.8485\n",
      "Epoch 11/40\n",
      "30/30 [==============================] - 1s 34ms/step - loss: 0.3610 - accuracy: 0.8971 - val_loss: 0.3981 - val_accuracy: 0.8560\n",
      "Epoch 12/40\n",
      "30/30 [==============================] - 1s 40ms/step - loss: 0.3254 - accuracy: 0.9059 - val_loss: 0.3747 - val_accuracy: 0.8623\n",
      "Epoch 13/40\n",
      "30/30 [==============================] - 1s 34ms/step - loss: 0.2949 - accuracy: 0.9133 - val_loss: 0.3549 - val_accuracy: 0.8702\n",
      "Epoch 14/40\n",
      "30/30 [==============================] - 1s 33ms/step - loss: 0.2689 - accuracy: 0.9197 - val_loss: 0.3406 - val_accuracy: 0.8704\n",
      "Epoch 15/40\n",
      "30/30 [==============================] - 1s 35ms/step - loss: 0.2465 - accuracy: 0.9261 - val_loss: 0.3267 - val_accuracy: 0.8760\n",
      "Epoch 16/40\n",
      "30/30 [==============================] - 1s 38ms/step - loss: 0.2263 - accuracy: 0.9333 - val_loss: 0.3163 - val_accuracy: 0.8791\n",
      "Epoch 17/40\n",
      "30/30 [==============================] - 1s 37ms/step - loss: 0.2086 - accuracy: 0.9386 - val_loss: 0.3084 - val_accuracy: 0.8796\n",
      "Epoch 18/40\n",
      "30/30 [==============================] - 1s 34ms/step - loss: 0.1929 - accuracy: 0.9433 - val_loss: 0.3005 - val_accuracy: 0.8828\n",
      "Epoch 19/40\n",
      "30/30 [==============================] - 1s 34ms/step - loss: 0.1785 - accuracy: 0.9491 - val_loss: 0.2946 - val_accuracy: 0.8849\n",
      "Epoch 20/40\n",
      "30/30 [==============================] - 1s 34ms/step - loss: 0.1654 - accuracy: 0.9542 - val_loss: 0.2903 - val_accuracy: 0.8854\n",
      "Epoch 21/40\n",
      "30/30 [==============================] - 1s 33ms/step - loss: 0.1534 - accuracy: 0.9581 - val_loss: 0.2869 - val_accuracy: 0.8864\n",
      "Epoch 22/40\n",
      "30/30 [==============================] - 1s 34ms/step - loss: 0.1425 - accuracy: 0.9633 - val_loss: 0.2831 - val_accuracy: 0.8870\n",
      "Epoch 23/40\n",
      "30/30 [==============================] - 1s 34ms/step - loss: 0.1331 - accuracy: 0.9657 - val_loss: 0.2817 - val_accuracy: 0.8862\n",
      "Epoch 24/40\n",
      "30/30 [==============================] - 1s 35ms/step - loss: 0.1236 - accuracy: 0.9690 - val_loss: 0.2796 - val_accuracy: 0.8881\n",
      "Epoch 25/40\n",
      "30/30 [==============================] - 1s 33ms/step - loss: 0.1150 - accuracy: 0.9720 - val_loss: 0.2780 - val_accuracy: 0.8884\n",
      "Epoch 26/40\n",
      "30/30 [==============================] - 1s 34ms/step - loss: 0.1074 - accuracy: 0.9758 - val_loss: 0.2791 - val_accuracy: 0.8881\n",
      "Epoch 27/40\n",
      "30/30 [==============================] - 1s 35ms/step - loss: 0.1005 - accuracy: 0.9782 - val_loss: 0.2803 - val_accuracy: 0.8857\n",
      "Epoch 28/40\n",
      "30/30 [==============================] - 1s 34ms/step - loss: 0.0942 - accuracy: 0.9801 - val_loss: 0.2765 - val_accuracy: 0.8899\n",
      "Epoch 29/40\n",
      "30/30 [==============================] - 1s 33ms/step - loss: 0.0873 - accuracy: 0.9825 - val_loss: 0.2768 - val_accuracy: 0.8913\n",
      "Epoch 30/40\n",
      "30/30 [==============================] - 1s 36ms/step - loss: 0.0816 - accuracy: 0.9841 - val_loss: 0.2778 - val_accuracy: 0.8904\n",
      "Epoch 31/40\n",
      "30/30 [==============================] - 1s 37ms/step - loss: 0.0765 - accuracy: 0.9848 - val_loss: 0.2794 - val_accuracy: 0.8899\n",
      "Epoch 32/40\n",
      "30/30 [==============================] - 1s 37ms/step - loss: 0.0718 - accuracy: 0.9865 - val_loss: 0.2793 - val_accuracy: 0.8905\n",
      "Epoch 33/40\n",
      "30/30 [==============================] - 1s 35ms/step - loss: 0.0671 - accuracy: 0.9878 - val_loss: 0.2806 - val_accuracy: 0.8911\n",
      "Epoch 34/40\n",
      "30/30 [==============================] - 1s 33ms/step - loss: 0.0630 - accuracy: 0.9889 - val_loss: 0.2815 - val_accuracy: 0.8905\n",
      "Epoch 35/40\n",
      "30/30 [==============================] - 1s 33ms/step - loss: 0.0592 - accuracy: 0.9899 - val_loss: 0.2841 - val_accuracy: 0.8900\n",
      "Epoch 36/40\n",
      "30/30 [==============================] - 1s 34ms/step - loss: 0.0555 - accuracy: 0.9911 - val_loss: 0.2850 - val_accuracy: 0.8896\n",
      "Epoch 37/40\n",
      "30/30 [==============================] - 1s 34ms/step - loss: 0.0523 - accuracy: 0.9917 - val_loss: 0.2875 - val_accuracy: 0.8893\n",
      "Epoch 38/40\n",
      "30/30 [==============================] - 1s 33ms/step - loss: 0.0493 - accuracy: 0.9921 - val_loss: 0.2890 - val_accuracy: 0.8886\n",
      "Epoch 39/40\n",
      "30/30 [==============================] - 1s 33ms/step - loss: 0.0461 - accuracy: 0.9933 - val_loss: 0.2918 - val_accuracy: 0.8891\n",
      "Epoch 40/40\n",
      "30/30 [==============================] - 1s 33ms/step - loss: 0.0434 - accuracy: 0.9935 - val_loss: 0.2942 - val_accuracy: 0.8887\n"
     ]
    },
    {
     "data": {
      "text/plain": [
       "<tensorflow.python.keras.callbacks.History at 0x20121bdb2c8>"
      ]
     },
     "execution_count": 34,
     "metadata": {},
     "output_type": "execute_result"
    }
   ],
   "source": [
    "x_val = train_data[:10000] \n",
    "x_train = train_data[10000:]\n",
    "y_val = train_labels[:10000] \n",
    "y_train = train_labels[10000:]\n",
    "\n",
    "model.fit(x_train,y_train,epochs=40,batch_size=512, validation_data=(x_val,y_val), verbose=1) \n",
    "#Verbose is like, how detailed of an output is to be printed. Verbose = 2 will give just the accuracy and loss values\n",
    "#after each epoch is trained. Verbose=0 will not print anything. Try changing the value of  verbose and see for yourself."
   ]
  },
  {
   "cell_type": "code",
   "execution_count": 35,
   "id": "5897b5e7",
   "metadata": {},
   "outputs": [
    {
     "name": "stdout",
     "output_type": "stream",
     "text": [
      "782/782 [==============================] - 1s 1ms/step - loss: 0.3286 - accuracy: 0.8717\n"
     ]
    }
   ],
   "source": [
    "results = model.evaluate(test_data,test_labels)"
   ]
  },
  {
   "cell_type": "code",
   "execution_count": 36,
   "id": "cb21f6eb",
   "metadata": {},
   "outputs": [
    {
     "name": "stdout",
     "output_type": "stream",
     "text": [
      "[0.3286023437976837, 0.871720016002655]\n"
     ]
    }
   ],
   "source": [
    "print(results)"
   ]
  },
  {
   "cell_type": "code",
   "execution_count": 37,
   "id": "0c48eac2",
   "metadata": {},
   "outputs": [],
   "source": [
    "model.save(\"myFirstSaving.h5\")"
   ]
  },
  {
   "cell_type": "code",
   "execution_count": 38,
   "id": "560df4d4",
   "metadata": {},
   "outputs": [],
   "source": [
    "loaded_model = keras.models.load_model(\"myFirstSaving.h5\")"
   ]
  },
  {
   "cell_type": "code",
   "execution_count": 39,
   "id": "812d3753",
   "metadata": {},
   "outputs": [
    {
     "name": "stdout",
     "output_type": "stream",
     "text": [
      "Model: \"sequential_1\"\n",
      "_________________________________________________________________\n",
      "Layer (type)                 Output Shape              Param #   \n",
      "=================================================================\n",
      "embedding_1 (Embedding)      (None, None, 16)          1408000   \n",
      "_________________________________________________________________\n",
      "global_average_pooling1d_1 ( (None, 16)                0         \n",
      "_________________________________________________________________\n",
      "dense_2 (Dense)              (None, 16)                272       \n",
      "_________________________________________________________________\n",
      "dense_3 (Dense)              (None, 1)                 17        \n",
      "=================================================================\n",
      "Total params: 1,408,289\n",
      "Trainable params: 1,408,289\n",
      "Non-trainable params: 0\n",
      "_________________________________________________________________\n"
     ]
    }
   ],
   "source": [
    "loaded_model.summary()"
   ]
  },
  {
   "cell_type": "code",
   "execution_count": null,
   "id": "212beefa",
   "metadata": {},
   "outputs": [],
   "source": []
  }
 ],
 "metadata": {
  "kernelspec": {
   "display_name": "Python 3 (ipykernel)",
   "language": "python",
   "name": "python3"
  },
  "language_info": {
   "codemirror_mode": {
    "name": "ipython",
    "version": 3
   },
   "file_extension": ".py",
   "mimetype": "text/x-python",
   "name": "python",
   "nbconvert_exporter": "python",
   "pygments_lexer": "ipython3",
   "version": "3.7.13"
  }
 },
 "nbformat": 4,
 "nbformat_minor": 5
}
