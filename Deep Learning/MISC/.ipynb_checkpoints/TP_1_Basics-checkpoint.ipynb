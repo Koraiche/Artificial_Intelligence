{
 "cells": [
  {
   "cell_type": "code",
   "execution_count": 4,
   "id": "c3deac04",
   "metadata": {},
   "outputs": [],
   "source": [
    "import tensorflow as tf\n",
    "import os"
   ]
  },
  {
   "cell_type": "code",
   "execution_count": 5,
   "id": "fe95447c",
   "metadata": {},
   "outputs": [
    {
     "name": "stdout",
     "output_type": "stream",
     "text": [
      "<module 'tensorflow._api.v2.version' from 'C:\\\\Users\\\\PC\\\\anaconda3\\\\envs\\\\s2m\\\\lib\\\\site-packages\\\\tensorflow\\\\_api\\\\v2\\\\version\\\\__init__.py'>\n"
     ]
    }
   ],
   "source": [
    "os.environ['TF_CPP_MIN_LOG_LEVEL'] = '2'\n",
    "print(tf.version)"
   ]
  },
  {
   "cell_type": "markdown",
   "id": "90b05960",
   "metadata": {},
   "source": [
    "# Initialization"
   ]
  },
  {
   "cell_type": "markdown",
   "id": "0ed8d7d1",
   "metadata": {},
   "source": [
    "Mannual"
   ]
  },
  {
   "cell_type": "code",
   "execution_count": 11,
   "id": "1f5c2ddf",
   "metadata": {},
   "outputs": [
    {
     "name": "stdout",
     "output_type": "stream",
     "text": [
      "tf.Tensor([[4.]], shape=(1, 1), dtype=float32)\n",
      "tf.Tensor(\n",
      "[[1 2 3]\n",
      " [4 5 6]], shape=(2, 3), dtype=int32)\n"
     ]
    }
   ],
   "source": [
    "x = tf.constant(4,shape=(1,1), dtype=tf.float32);\n",
    "print(x);\n",
    "x = tf.constant([[1,2,3],[4,5,6]]);\n",
    "print(x);"
   ]
  },
  {
   "cell_type": "markdown",
   "id": "55d80ed8",
   "metadata": {},
   "source": [
    "Auto"
   ]
  },
  {
   "cell_type": "code",
   "execution_count": 12,
   "id": "ef3aa516",
   "metadata": {},
   "outputs": [
    {
     "name": "stdout",
     "output_type": "stream",
     "text": [
      "tf.Tensor(\n",
      "[[1. 1. 1.]\n",
      " [1. 1. 1.]\n",
      " [1. 1. 1.]], shape=(3, 3), dtype=float32)\n"
     ]
    }
   ],
   "source": [
    "x = tf.ones((3,3))\n",
    "print(x)"
   ]
  },
  {
   "cell_type": "code",
   "execution_count": 13,
   "id": "9274c104",
   "metadata": {},
   "outputs": [
    {
     "name": "stdout",
     "output_type": "stream",
     "text": [
      "tf.Tensor(\n",
      "[[0. 0. 0.]\n",
      " [0. 0. 0.]\n",
      " [0. 0. 0.]\n",
      " [0. 0. 0.]], shape=(4, 3), dtype=float32)\n"
     ]
    }
   ],
   "source": [
    "x = tf.zeros((4,3))\n",
    "print(x)"
   ]
  },
  {
   "cell_type": "code",
   "execution_count": 14,
   "id": "cc6fa35e",
   "metadata": {},
   "outputs": [
    {
     "name": "stdout",
     "output_type": "stream",
     "text": [
      "tf.Tensor(\n",
      "[[1. 0. 0. 0. 0.]\n",
      " [0. 1. 0. 0. 0.]\n",
      " [0. 0. 1. 0. 0.]\n",
      " [0. 0. 0. 1. 0.]\n",
      " [0. 0. 0. 0. 1.]], shape=(5, 5), dtype=float32)\n"
     ]
    }
   ],
   "source": [
    "x = tf.eye((5))\n",
    "print(x)"
   ]
  },
  {
   "cell_type": "code",
   "execution_count": 15,
   "id": "710af070",
   "metadata": {},
   "outputs": [
    {
     "name": "stdout",
     "output_type": "stream",
     "text": [
      "tf.Tensor(\n",
      "[[-1.9678732   2.3979218  -1.3068689 ]\n",
      " [ 0.81524384 -0.7369255  -1.00357   ]\n",
      " [ 0.04697453 -1.0692445   0.6929658 ]], shape=(3, 3), dtype=float32)\n"
     ]
    }
   ],
   "source": [
    "x = tf.random.normal((3,3), mean=0, stddev=1)\n",
    "print(x)"
   ]
  },
  {
   "cell_type": "code",
   "execution_count": 16,
   "id": "dd9ce6c6",
   "metadata": {},
   "outputs": [
    {
     "name": "stdout",
     "output_type": "stream",
     "text": [
      "tf.Tensor(\n",
      "[[0.44088674 0.01553476 0.9015616 ]\n",
      " [0.28620934 0.8942772  0.28065717]\n",
      " [0.22289968 0.00873804 0.61519885]\n",
      " [0.5962297  0.7407788  0.03315246]], shape=(4, 3), dtype=float32)\n"
     ]
    }
   ],
   "source": [
    "x = tf.random.uniform((4,3), minval=0, maxval=1)\n",
    "print(x)"
   ]
  },
  {
   "cell_type": "code",
   "execution_count": 19,
   "id": "5fbfaf0d",
   "metadata": {},
   "outputs": [
    {
     "name": "stdout",
     "output_type": "stream",
     "text": [
      "tf.Tensor([1 3 5 7 9], shape=(5,), dtype=int32)\n"
     ]
    }
   ],
   "source": [
    "x = tf.range(start=1, limit=10, delta=2)\n",
    "print(x)"
   ]
  },
  {
   "cell_type": "code",
   "execution_count": 20,
   "id": "f5aae90c",
   "metadata": {},
   "outputs": [
    {
     "name": "stdout",
     "output_type": "stream",
     "text": [
      "tf.Tensor([1 3 5 7 9], shape=(5,), dtype=int32)\n",
      "tf.Tensor([1. 3. 5. 7. 9.], shape=(5,), dtype=float32)\n"
     ]
    }
   ],
   "source": [
    "x = tf.range(start=1, limit=10, delta=2)\n",
    "print(x)\n",
    "x = tf.cast(x, dtype=tf.float32)\n",
    "print(x)"
   ]
  },
  {
   "cell_type": "markdown",
   "id": "dfe2fdf8",
   "metadata": {},
   "source": [
    "# Mathematical operations"
   ]
  },
  {
   "cell_type": "code",
   "execution_count": 24,
   "id": "fc6164cf",
   "metadata": {},
   "outputs": [
    {
     "name": "stdout",
     "output_type": "stream",
     "text": [
      "tf.Tensor([10 10 10], shape=(3,), dtype=int32)\n",
      "tf.Tensor([10 10 10], shape=(3,), dtype=int32)\n"
     ]
    }
   ],
   "source": [
    "x = tf.constant([1, 2, 3])\n",
    "y = tf.constant([9, 8, 7])\n",
    "z = tf.add(x,y)\n",
    "print(z)\n",
    "z= x + y #equivalent and convienient\n",
    "print(z)"
   ]
  },
  {
   "cell_type": "code",
   "execution_count": 27,
   "id": "662b130b",
   "metadata": {},
   "outputs": [
    {
     "name": "stdout",
     "output_type": "stream",
     "text": [
      "tf.Tensor([10 10 10], shape=(3,), dtype=int32)\n",
      "tf.Tensor([10 10 10], shape=(3,), dtype=int32)\n"
     ]
    }
   ],
   "source": [
    "x = tf.constant([19, 18, 17])\n",
    "y = tf.constant([9, 8, 7])\n",
    "z = tf.subtract(x,y)\n",
    "print(z)\n",
    "z= x - y #equivalent and convienient\n",
    "print(z)"
   ]
  },
  {
   "cell_type": "code",
   "execution_count": 29,
   "id": "bbf10800",
   "metadata": {},
   "outputs": [
    {
     "name": "stdout",
     "output_type": "stream",
     "text": [
      "tf.Tensor([10.  8.  7.], shape=(3,), dtype=float64)\n",
      "tf.Tensor([10.  8.  7.], shape=(3,), dtype=float64)\n"
     ]
    }
   ],
   "source": [
    "x = tf.constant([20, 16, 21])\n",
    "y = tf.constant([2, 2, 3])\n",
    "z = tf.divide(x,y)\n",
    "print(z)\n",
    "z= x / y #equivalent and convienient\n",
    "print(z)"
   ]
  },
  {
   "cell_type": "code",
   "execution_count": 30,
   "id": "f1c6c153",
   "metadata": {},
   "outputs": [
    {
     "name": "stdout",
     "output_type": "stream",
     "text": [
      "tf.Tensor([10 16 21], shape=(3,), dtype=int32)\n",
      "tf.Tensor([10 16 21], shape=(3,), dtype=int32)\n"
     ]
    }
   ],
   "source": [
    "x = tf.constant([5, 8, 7])\n",
    "y = tf.constant([2, 2, 3])\n",
    "z = tf.multiply(x,y)\n",
    "print(z)\n",
    "z= x * y #equivalent and convienient\n",
    "print(z)"
   ]
  },
  {
   "cell_type": "code",
   "execution_count": 32,
   "id": "787abf37",
   "metadata": {},
   "outputs": [
    {
     "name": "stdout",
     "output_type": "stream",
     "text": [
      "tf.Tensor(47, shape=(), dtype=int32)\n"
     ]
    }
   ],
   "source": [
    "x = tf.constant([5, 8, 7])\n",
    "y = tf.constant([2, 2, 3])\n",
    "z = tf.tensordot(x,y, axes=1) #Dot multiply + summation\n",
    "print(z)"
   ]
  },
  {
   "cell_type": "code",
   "execution_count": 33,
   "id": "13bd9c8d",
   "metadata": {},
   "outputs": [
    {
     "name": "stdout",
     "output_type": "stream",
     "text": [
      "tf.Tensor(47, shape=(), dtype=int32)\n"
     ]
    }
   ],
   "source": [
    "x = tf.constant([5, 8, 7])\n",
    "y = tf.constant([2, 2, 3])\n",
    "z = tf.reduce_sum(x*y, axis=0)\n",
    "print(z)"
   ]
  },
  {
   "cell_type": "code",
   "execution_count": 35,
   "id": "71407af6",
   "metadata": {},
   "outputs": [
    {
     "name": "stdout",
     "output_type": "stream",
     "text": [
      "tf.Tensor([25 64 49], shape=(3,), dtype=int32)\n"
     ]
    }
   ],
   "source": [
    "x = tf.constant([5, 8, 7])\n",
    "z = x ** 2\n",
    "print(z)"
   ]
  },
  {
   "cell_type": "code",
   "execution_count": 37,
   "id": "23e37ee4",
   "metadata": {},
   "outputs": [
    {
     "name": "stdout",
     "output_type": "stream",
     "text": [
      "tf.Tensor(\n",
      "[[ 59.193535  19.81967   66.89896   43.71739 ]\n",
      " [125.93254   41.570908 145.50398   92.54862 ]\n",
      " [ 60.328156  23.343624  98.177765  72.67149 ]\n",
      " [ 96.07788   29.90311  129.1406    73.84709 ]], shape=(4, 4), dtype=float32)\n",
      "tf.Tensor(\n",
      "[[ 59.193535  19.81967   66.89896   43.71739 ]\n",
      " [125.93254   41.570908 145.50398   92.54862 ]\n",
      " [ 60.328156  23.343624  98.177765  72.67149 ]\n",
      " [ 96.07788   29.90311  129.1406    73.84709 ]], shape=(4, 4), dtype=float32)\n"
     ]
    }
   ],
   "source": [
    "x = tf.random.uniform((4,3), minval=1, maxval=10)\n",
    "y = tf.random.uniform((3,4), minval=1, maxval=10)\n",
    "z = tf.matmul(x, y)\n",
    "print(z)\n",
    "z = x @ y\n",
    "print(z)"
   ]
  },
  {
   "cell_type": "markdown",
   "id": "175a9aea",
   "metadata": {},
   "source": [
    "# Indexing"
   ]
  },
  {
   "cell_type": "code",
   "execution_count": 43,
   "id": "21fceabf",
   "metadata": {},
   "outputs": [
    {
     "name": "stdout",
     "output_type": "stream",
     "text": [
      "tf.Tensor([ 0  1  2  3  4  5  6  7  8  9 10], shape=(11,), dtype=int32)\n"
     ]
    }
   ],
   "source": [
    "x = tf.constant([0,1,2,3,4,5,6,7,8,9,10])\n",
    "print(x[:])"
   ]
  },
  {
   "cell_type": "code",
   "execution_count": 44,
   "id": "29d047ab",
   "metadata": {},
   "outputs": [
    {
     "name": "stdout",
     "output_type": "stream",
     "text": [
      "tf.Tensor([ 1  2  3  4  5  6  7  8  9 10], shape=(10,), dtype=int32)\n"
     ]
    }
   ],
   "source": [
    "x = tf.constant([0,1,2,3,4,5,6,7,8,9,10])\n",
    "print(x[1:])"
   ]
  },
  {
   "cell_type": "code",
   "execution_count": 45,
   "id": "19c8bf9e",
   "metadata": {},
   "outputs": [
    {
     "name": "stdout",
     "output_type": "stream",
     "text": [
      "tf.Tensor([ 2  3  4  5  6  7  8  9 10], shape=(9,), dtype=int32)\n"
     ]
    }
   ],
   "source": [
    "x = tf.constant([0,1,2,3,4,5,6,7,8,9,10])\n",
    "print(x[2:])"
   ]
  },
  {
   "cell_type": "code",
   "execution_count": 46,
   "id": "dff4b6c6",
   "metadata": {},
   "outputs": [
    {
     "name": "stdout",
     "output_type": "stream",
     "text": [
      "tf.Tensor([1 2], shape=(2,), dtype=int32)\n"
     ]
    }
   ],
   "source": [
    "x = tf.constant([0,1,2,3,4,5,6,7,8,9,10])\n",
    "print(x[1:3]) #3 not inclusive"
   ]
  },
  {
   "cell_type": "code",
   "execution_count": 48,
   "id": "941dfb58",
   "metadata": {},
   "outputs": [
    {
     "name": "stdout",
     "output_type": "stream",
     "text": [
      "tf.Tensor([ 0  2  4  6  8 10], shape=(6,), dtype=int32)\n"
     ]
    }
   ],
   "source": [
    "x = tf.constant([0,1,2,3,4,5,6,7,8,9,10])\n",
    "print(x[::2]) # skip every other element"
   ]
  },
  {
   "cell_type": "code",
   "execution_count": 49,
   "id": "6951ec1d",
   "metadata": {},
   "outputs": [
    {
     "name": "stdout",
     "output_type": "stream",
     "text": [
      "tf.Tensor([ 0  5 10], shape=(3,), dtype=int32)\n"
     ]
    }
   ],
   "source": [
    "x = tf.constant([0,1,2,3,4,5,6,7,8,9,10])\n",
    "print(x[::5]) # skip every other element"
   ]
  },
  {
   "cell_type": "code",
   "execution_count": 50,
   "id": "0d7847fd",
   "metadata": {},
   "outputs": [
    {
     "name": "stdout",
     "output_type": "stream",
     "text": [
      "tf.Tensor([10  9  8  7  6  5  4  3  2  1  0], shape=(11,), dtype=int32)\n"
     ]
    }
   ],
   "source": [
    "x = tf.constant([0,1,2,3,4,5,6,7,8,9,10])\n",
    "print(x[::-1]) #print in reverse"
   ]
  },
  {
   "cell_type": "code",
   "execution_count": 53,
   "id": "059d962e",
   "metadata": {},
   "outputs": [
    {
     "name": "stdout",
     "output_type": "stream",
     "text": [
      "tf.Tensor([  1 100], shape=(2,), dtype=int32)\n"
     ]
    }
   ],
   "source": [
    "x = tf.constant([1,10,20,30,40,50,60,70,80,90,100])\n",
    "indices = tf.constant([0,10])\n",
    "element = tf.gather(x,indices) # get the elements in index 0 and 10 specified in indices tensor\n",
    "print(element) "
   ]
  },
  {
   "cell_type": "code",
   "execution_count": 58,
   "id": "e18adc46",
   "metadata": {},
   "outputs": [
    {
     "name": "stdout",
     "output_type": "stream",
     "text": [
      "tf.Tensor(\n",
      "[[ 1 10]\n",
      " [ 2 20]\n",
      " [ 3 30]], shape=(3, 2), dtype=int32)\n",
      "tf.Tensor([ 1 10], shape=(2,), dtype=int32)\n",
      "tf.Tensor([ 1 10], shape=(2,), dtype=int32)\n",
      "tf.Tensor([10], shape=(1,), dtype=int32)\n",
      "tf.Tensor(\n",
      "[[ 1 10]\n",
      " [ 2 20]], shape=(2, 2), dtype=int32)\n",
      "tf.Tensor(\n",
      "[[1]\n",
      " [2]], shape=(2, 1), dtype=int32)\n"
     ]
    }
   ],
   "source": [
    "x = tf.constant([[1,10],\n",
    "                [2,20],\n",
    "                [3,30]])\n",
    "print(x) # Whole tensor\n",
    "print(x[0]) # First array in tensor\n",
    "print(x[0,:]) # All elements of first array in tensor\n",
    "print(x[0,1:]) # Second element to end of first array in tensor\n",
    "print(x[:2,:]) # All elements of first array and second array in tensor\n",
    "print(x[:2,:1]) # First elements of first array and second array in tensor"
   ]
  },
  {
   "cell_type": "markdown",
   "id": "39e3d26f",
   "metadata": {},
   "source": [
    "# Reshaping"
   ]
  },
  {
   "cell_type": "code",
   "execution_count": 63,
   "id": "93ddf1a4",
   "metadata": {},
   "outputs": [
    {
     "name": "stdout",
     "output_type": "stream",
     "text": [
      "tf.Tensor([0 1 2 3 4 5 6 7 8], shape=(9,), dtype=int32)\n",
      "tf.Tensor(\n",
      "[[0 1 2]\n",
      " [3 4 5]\n",
      " [6 7 8]], shape=(3, 3), dtype=int32)\n",
      "tf.Tensor(\n",
      "[[0]\n",
      " [1]\n",
      " [2]\n",
      " [3]\n",
      " [4]\n",
      " [5]\n",
      " [6]\n",
      " [7]\n",
      " [8]], shape=(9, 1), dtype=int32)\n",
      "tf.Tensor([[0 1 2 3 4 5 6 7 8]], shape=(1, 9), dtype=int32)\n"
     ]
    }
   ],
   "source": [
    "x = tf.range(9)\n",
    "print(x)\n",
    "x = tf.reshape(x,(3,3))\n",
    "print(x)\n",
    "x = tf.reshape(x,(9,1))\n",
    "print(x)\n",
    "x = tf.reshape(x,(1,9))\n",
    "print(x)"
   ]
  },
  {
   "cell_type": "code",
   "execution_count": 66,
   "id": "c5d9d1d2",
   "metadata": {},
   "outputs": [
    {
     "name": "stdout",
     "output_type": "stream",
     "text": [
      "tf.Tensor(\n",
      "[[ 1 10]\n",
      " [ 2 20]\n",
      " [ 3 30]], shape=(3, 2), dtype=int32)\n",
      "tf.Tensor(\n",
      "[[ 1  2  3]\n",
      " [10 20 30]], shape=(2, 3), dtype=int32)\n"
     ]
    }
   ],
   "source": [
    "x = tf.constant([[1,10],\n",
    "                [2,20],\n",
    "                [3,30]])\n",
    "print(x)\n",
    "x = tf.transpose(x,perm=[1,0])\n",
    "print(x)"
   ]
  },
  {
   "cell_type": "code",
   "execution_count": null,
   "id": "bffeb841",
   "metadata": {},
   "outputs": [],
   "source": []
  }
 ],
 "metadata": {
  "kernelspec": {
   "display_name": "Python 3 (ipykernel)",
   "language": "python",
   "name": "python3"
  },
  "language_info": {
   "codemirror_mode": {
    "name": "ipython",
    "version": 3
   },
   "file_extension": ".py",
   "mimetype": "text/x-python",
   "name": "python",
   "nbconvert_exporter": "python",
   "pygments_lexer": "ipython3",
   "version": "3.9.12"
  }
 },
 "nbformat": 4,
 "nbformat_minor": 5
}
