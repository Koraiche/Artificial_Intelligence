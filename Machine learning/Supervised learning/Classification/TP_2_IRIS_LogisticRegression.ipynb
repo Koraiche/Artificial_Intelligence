{
 "cells": [
  {
   "cell_type": "markdown",
   "id": "545f0ef7",
   "metadata": {},
   "source": [
    "# Logistic regression : Used to calculate or predict the probability of a binary (yes/no) event occurring"
   ]
  },
  {
   "cell_type": "code",
   "execution_count": 1,
   "id": "07a9bf52",
   "metadata": {},
   "outputs": [
    {
     "data": {
      "text/plain": [
       "array([2, 0])"
      ]
     },
     "execution_count": 1,
     "metadata": {},
     "output_type": "execute_result"
    }
   ],
   "source": [
    "# import the class\n",
    "from sklearn.linear_model import LogisticRegression\n",
    "from sklearn.datasets import load_iris\n",
    "\n",
    "#load the dataset\n",
    "iris = load_iris()\n",
    "\n",
    "# store feature matrix in \"X\"\n",
    "X_train = iris.data\n",
    "\n",
    "# store response vector in \"y\"\n",
    "y_train = iris.target\n",
    "\n",
    "\n",
    "# instantiate the model\n",
    "logreg = LogisticRegression(solver='liblinear')\n",
    "\n",
    "# fit the model with data\n",
    "logreg.fit(X_train, y_train)\n",
    "\n",
    "# predict the response for new observations\n",
    "X_new = [[3, 5, 4, 2], [5, 4, 3, 2]]\n",
    "logreg.predict(X_new)"
   ]
  },
  {
   "cell_type": "code",
   "execution_count": null,
   "id": "2610dfeb",
   "metadata": {},
   "outputs": [],
   "source": []
  }
 ],
 "metadata": {
  "kernelspec": {
   "display_name": "Python 3 (ipykernel)",
   "language": "python",
   "name": "python3"
  },
  "language_info": {
   "codemirror_mode": {
    "name": "ipython",
    "version": 3
   },
   "file_extension": ".py",
   "mimetype": "text/x-python",
   "name": "python",
   "nbconvert_exporter": "python",
   "pygments_lexer": "ipython3",
   "version": "3.7.13"
  }
 },
 "nbformat": 4,
 "nbformat_minor": 5
}
