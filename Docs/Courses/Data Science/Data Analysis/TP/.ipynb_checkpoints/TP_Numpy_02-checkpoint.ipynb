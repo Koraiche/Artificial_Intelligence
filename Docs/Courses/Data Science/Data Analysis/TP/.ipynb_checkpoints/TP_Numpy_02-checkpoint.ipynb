{
 "cells": [
  {
   "cell_type": "markdown",
   "id": "63f7b796",
   "metadata": {},
   "source": [
    "### Créez un tableau avec NumPy"
   ]
  },
  {
   "cell_type": "markdown",
   "id": "e70e8b1b",
   "metadata": {},
   "source": [
    "Jusque-là, nous n’avons vu que des tableaux/arrays à une dimension, mais on ne travaille que très rarement avec une seule colonne.\n",
    "\n",
    "Prenons un exemple : vous travaillez dans le milieu bancaire et vous avez besoin de créer un tableau où vous retrouveriez, en plus des revenus de vos clients, leurs mensualités de remboursement de prêt, le nombre d'enfants à charge, et toute autre information susceptible de vous être utile.\n",
    "\n",
    "Considérons les clients suivants :\n",
    "\n",
    "=>Hugo, un jeune homme de 21 ans, gagnant 1 400 € par mois et n’ayant aucun enfant ;\n",
    "\n",
    "=>Richard, un homme de 54 ans, gagnant 2800 € par mois et ayant 2 enfants ;\n",
    "\n",
    "=>Émilie, une femme de 27 ans gagnant 3 700 € et ayant 3 enfants."
   ]
  },
  {
   "cell_type": "code",
   "execution_count": 1,
   "id": "328bea7d",
   "metadata": {},
   "outputs": [],
   "source": [
    "hugo = [21, 1400, 0]\n",
    "richard = [54, 2800, 2]\n",
    "emilie = [27, 3700, 3]\n",
    "tableau = [hugo, richard, emilie]"
   ]
  },
  {
   "cell_type": "markdown",
   "id": "f98c1910",
   "metadata": {},
   "source": [
    "La listetableau contient donc 3 éléments, qui sont eux-mêmes des listes de 3 éléments : c’est donc une liste de listes. Nous avons néanmoins toujours l’ensemble des limitations liées aux listes, avec cette façon de faire.\n",
    "\n",
    "Comment pourrions-nous faire alors ?\n",
    "\n",
    "Vous vous en doutez très certainement, mais oui, encore une fois la réponse se trouve du côté de NumPy et des arrays !\n",
    "\n",
    "En effet, un array est un objet multidimensionnel, c’est-à -dire qu’il est possible de créer des arrays de toutes dimensions, et que l’ensemble des méthodes d’array prennent en compte ce côté multidimensionnel. Génial, non ? Testons tout cela ensemble ! \n",
    "La façon la plus simple de créer un tableau est de le faire à partir d’une liste de listes Python, comme avec une liste classique. Il suffira d'exécuter np.array(tableau) pour transformer notre liste de listes en array NumPy de 3 lignes et 3 colonnes.\n",
    "\n",
    "Voyons quelques autres exemples ensemble pour bien comprendre cette notion :"
   ]
  },
  {
   "cell_type": "code",
   "execution_count": 3,
   "id": "21c3583b",
   "metadata": {},
   "outputs": [],
   "source": [
    "import numpy as np \n",
    "tab1 = np.array([[1, 2],\n",
    "    [3, 4],\n",
    "    [5, 6]]) # un array  tab1  de 3 lignes et 2 colonnes ;\n",
    "\n",
    "tab2 = np.array([[1, 2, 3],\n",
    "        [4, 5, 6]]) #et un array  tab2  de 2 lignes et 3 colonnes."
   ]
  },
  {
   "cell_type": "markdown",
   "id": "aab2f43b",
   "metadata": {},
   "source": [
    "Comme précédemment, nous pouvons également utiliser des fonctions NumPy pour créer des tableaux plus ou moins complexes. Voici quelques exemples de fonctions couramment utilisées :"
   ]
  },
  {
   "cell_type": "code",
   "execution_count": 4,
   "id": "dd6ac2c8",
   "metadata": {},
   "outputs": [
    {
     "data": {
      "text/plain": [
       "array([[7, 5, 7],\n",
       "       [5, 3, 6],\n",
       "       [5, 1, 3]])"
      ]
     },
     "execution_count": 4,
     "metadata": {},
     "output_type": "execute_result"
    }
   ],
   "source": [
    "# un tableau de 3x5 rempli de 1\n",
    "np.ones((3, 5))\n",
    "# un tableau de 4 lignes et de 4 colonnes contenant que des 0\n",
    "np.zeros((4, 4))\n",
    "# un tableau de 6x3 rempli de valeurs aléatoires comprises entre 0 et 1\n",
    "np.random.random((6, 3))\n",
    "# un tableau de 3x3 rempli de valeurs aléatoires entières, comprises entre 1 et 10\n",
    "np.random.randint(1, 10, size=(3, 3))"
   ]
  },
  {
   "cell_type": "code",
   "execution_count": 5,
   "id": "0345779a",
   "metadata": {},
   "outputs": [
    {
     "data": {
      "text/plain": [
       "[[1800, 21, 0],\n",
       " [1500, 54, 2],\n",
       " [2200, 28, 3],\n",
       " [3000, 37, 1],\n",
       " [2172, 37, 2],\n",
       " [5000, 32, 0],\n",
       " [1400, 23, 0],\n",
       " [1200, 25, 1],\n",
       " [1100, 19, 0],\n",
       " [1300, 31, 2]]"
      ]
     },
     "metadata": {},
     "output_type": "display_data"
    }
   ],
   "source": [
    "hugo = [1800, 21, 0]\n",
    "richard = [1500, 54, 2]\n",
    "emilie = [2200, 28, 3]\n",
    "pierre = [3000, 37, 1]\n",
    "paul = [2172, 37, 2]\n",
    "deborah = [5000, 32, 0]\n",
    "yohann = [1400, 23, 0]\n",
    "anne = [1200, 25, 1]\n",
    "thibault = [1100, 19, 0]\n",
    "emmanuel = [1300, 31, 2]\n",
    "\n",
    "tableau = [hugo, richard, emilie, pierre, paul, deborah,\n",
    "           yohann, anne, thibault, emmanuel]\n",
    "\n",
    "display(tableau)"
   ]
  },
  {
   "cell_type": "code",
   "execution_count": 6,
   "id": "ef7cdf41",
   "metadata": {},
   "outputs": [
    {
     "data": {
      "text/plain": [
       "array([[1800,   21,    0],\n",
       "       [1500,   54,    2],\n",
       "       [2200,   28,    3],\n",
       "       [3000,   37,    1],\n",
       "       [2172,   37,    2],\n",
       "       [5000,   32,    0],\n",
       "       [1400,   23,    0],\n",
       "       [1200,   25,    1],\n",
       "       [1100,   19,    0],\n",
       "       [1300,   31,    2]])"
      ]
     },
     "metadata": {},
     "output_type": "display_data"
    }
   ],
   "source": [
    "data = np.array(tableau)\n",
    "display(data)"
   ]
  },
  {
   "cell_type": "code",
   "execution_count": 7,
   "id": "26a29cfb",
   "metadata": {},
   "outputs": [
    {
     "data": {
      "text/plain": [
       "1800"
      ]
     },
     "execution_count": 7,
     "metadata": {},
     "output_type": "execute_result"
    }
   ],
   "source": [
    "data[0,0]"
   ]
  },
  {
   "cell_type": "code",
   "execution_count": 8,
   "id": "6e708bba",
   "metadata": {},
   "outputs": [
    {
     "data": {
      "text/plain": [
       "array([1800,   21,    0])"
      ]
     },
     "execution_count": 8,
     "metadata": {},
     "output_type": "execute_result"
    }
   ],
   "source": [
    "data[0]"
   ]
  },
  {
   "cell_type": "code",
   "execution_count": 9,
   "id": "365e862f",
   "metadata": {},
   "outputs": [
    {
     "data": {
      "text/plain": [
       "array([1800,   21,    0])"
      ]
     },
     "execution_count": 9,
     "metadata": {},
     "output_type": "execute_result"
    }
   ],
   "source": [
    "data[0,]"
   ]
  },
  {
   "cell_type": "code",
   "execution_count": 10,
   "id": "739e5e3a",
   "metadata": {},
   "outputs": [
    {
     "data": {
      "text/plain": [
       "array([1800,   21,    0])"
      ]
     },
     "execution_count": 10,
     "metadata": {},
     "output_type": "execute_result"
    }
   ],
   "source": [
    "data[0,:]"
   ]
  },
  {
   "cell_type": "code",
   "execution_count": 15,
   "id": "a4900e4a",
   "metadata": {},
   "outputs": [
    {
     "data": {
      "text/plain": [
       "array([1800, 1500, 2200, 3000, 2172, 5000, 1400, 1200, 1100, 1300])"
      ]
     },
     "execution_count": 15,
     "metadata": {},
     "output_type": "execute_result"
    }
   ],
   "source": [
    "data[:,0]"
   ]
  },
  {
   "cell_type": "code",
   "execution_count": 17,
   "id": "7078f37f",
   "metadata": {},
   "outputs": [
    {
     "data": {
      "text/plain": [
       "array([[1800,   21,    0],\n",
       "       [1400,   23,    0],\n",
       "       [1200,   25,    1],\n",
       "       [1100,   19,    0]])"
      ]
     },
     "execution_count": 17,
     "metadata": {},
     "output_type": "execute_result"
    }
   ],
   "source": [
    "data[data[:,1]<=25]"
   ]
  },
  {
   "cell_type": "code",
   "execution_count": 18,
   "id": "1b3adf80",
   "metadata": {},
   "outputs": [
    {
     "data": {
      "text/plain": [
       "array([[2200,   28,    3],\n",
       "       [3000,   37,    1],\n",
       "       [2172,   37,    2],\n",
       "       [5000,   32,    0]])"
      ]
     },
     "execution_count": 18,
     "metadata": {},
     "output_type": "execute_result"
    }
   ],
   "source": [
    "data[data[:,0] > 2000]"
   ]
  },
  {
   "cell_type": "code",
   "execution_count": 22,
   "id": "53f562b9",
   "metadata": {},
   "outputs": [
    {
     "data": {
      "text/plain": [
       "array([[1800,   21,    0],\n",
       "       [1500,   54,    2],\n",
       "       [2200,   28,    3],\n",
       "       [3000,   37,    1],\n",
       "       [2172,   37,    2],\n",
       "       [5000,   32,    0],\n",
       "       [1400,   23,    0],\n",
       "       [1200,   25,    1],\n",
       "       [1100,   19,    0],\n",
       "       [1300,   31,    2],\n",
       "       [1750,  700,   27]])"
      ]
     },
     "execution_count": 22,
     "metadata": {},
     "output_type": "execute_result"
    }
   ],
   "source": [
    "fred = [1750, 700, 27]\n",
    "np.vstack((data, fred)) # cree un nouveau array"
   ]
  },
  {
   "cell_type": "code",
   "execution_count": 23,
   "id": "f3724413",
   "metadata": {},
   "outputs": [
    {
     "data": {
      "text/plain": [
       "array([[1800,   21,    0],\n",
       "       [1500,   54,    2],\n",
       "       [2200,   28,    3],\n",
       "       [3000,   37,    1],\n",
       "       [2172,   37,    2],\n",
       "       [5000,   32,    0],\n",
       "       [1400,   23,    0],\n",
       "       [1200,   25,    1],\n",
       "       [1100,   19,    0],\n",
       "       [1300,   31,    2]])"
      ]
     },
     "execution_count": 23,
     "metadata": {},
     "output_type": "execute_result"
    }
   ],
   "source": [
    "data # lancien ne contient pas fred"
   ]
  },
  {
   "cell_type": "code",
   "execution_count": 24,
   "id": "13a1f79e",
   "metadata": {},
   "outputs": [],
   "source": [
    "a = np.linspace(5, 10, 11)"
   ]
  },
  {
   "cell_type": "code",
   "execution_count": 25,
   "id": "7f2a98bd",
   "metadata": {},
   "outputs": [
    {
     "data": {
      "text/plain": [
       "array([ 5. ,  5.5,  6. ,  6.5,  7. ,  7.5,  8. ,  8.5,  9. ,  9.5, 10. ])"
      ]
     },
     "execution_count": 25,
     "metadata": {},
     "output_type": "execute_result"
    }
   ],
   "source": [
    "a"
   ]
  },
  {
   "cell_type": "code",
   "execution_count": 26,
   "id": "4294df8c",
   "metadata": {},
   "outputs": [
    {
     "name": "stdout",
     "output_type": "stream",
     "text": [
      "[9.  9.5]\n"
     ]
    }
   ],
   "source": [
    "print(a[-3:-1])"
   ]
  },
  {
   "cell_type": "code",
   "execution_count": null,
   "id": "2651f419",
   "metadata": {},
   "outputs": [],
   "source": []
  }
 ],
 "metadata": {
  "kernelspec": {
   "display_name": "Python 3 (ipykernel)",
   "language": "python",
   "name": "python3"
  },
  "language_info": {
   "codemirror_mode": {
    "name": "ipython",
    "version": 3
   },
   "file_extension": ".py",
   "mimetype": "text/x-python",
   "name": "python",
   "nbconvert_exporter": "python",
   "pygments_lexer": "ipython3",
   "version": "3.7.13"
  }
 },
 "nbformat": 4,
 "nbformat_minor": 5
}
