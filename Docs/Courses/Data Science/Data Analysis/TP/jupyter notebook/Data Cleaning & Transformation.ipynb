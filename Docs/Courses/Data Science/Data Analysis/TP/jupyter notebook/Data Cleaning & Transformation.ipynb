{
 "cells": [
  {
   "cell_type": "code",
   "execution_count": 25,
   "id": "36af8e42",
   "metadata": {},
   "outputs": [
    {
     "name": "stdout",
     "output_type": "stream",
     "text": [
      "   prenom                                   email date_naissance  \\\n",
      "0   Leila                       leila@example.com     23/01/1990   \n",
      "1  Samuel                  samuel_329@example.com     20/09/2001   \n",
      "2   Radia                choupipoune@supermail.eu  12 sept. 1984   \n",
      "3    Marc  marco23@example.com, mc23@supermail.eu     10/02/1978   \n",
      "4    Heri                 helloworld@supermail.eu     05/03/2008   \n",
      "5   Hanna                  hanna2019@supermail.eu     01/01/1970   \n",
      "6  samuël                  samuel_329@example.com            NaN   \n",
      "\n",
      "            pays taille  \n",
      "0         France  1.49m  \n",
      "1            NaN  1.67m  \n",
      "2  Côte d'ivoire  153cm  \n",
      "3         France  1.65m  \n",
      "4     Madagascar  1.34m  \n",
      "5             24  3.45m  \n",
      "6          Bénin  1.45m  \n"
     ]
    }
   ],
   "source": [
    "# import des librairies dont nous aurons besoin\n",
    "import pandas as pd\n",
    "import numpy as np\n",
    "import re\n",
    "\n",
    "# chargement et affichage des données\n",
    "data = pd.read_csv('personnes.csv')\n",
    "print(data)"
   ]
  },
  {
   "cell_type": "markdown",
   "id": "8aa72169",
   "metadata": {},
   "source": [
    "## 1 - Valeurs manquante"
   ]
  },
  {
   "cell_type": "code",
   "execution_count": 2,
   "id": "420dc457",
   "metadata": {},
   "outputs": [
    {
     "name": "stdout",
     "output_type": "stream",
     "text": [
      "prenom            0\n",
      "email             0\n",
      "date_naissance    1\n",
      "pays              1\n",
      "taille            0\n",
      "dtype: int64\n"
     ]
    }
   ],
   "source": [
    "print(data.isnull().sum())"
   ]
  },
  {
   "cell_type": "code",
   "execution_count": 3,
   "id": "12674248",
   "metadata": {},
   "outputs": [
    {
     "name": "stdout",
     "output_type": "stream",
     "text": [
      "   prenom  email  date_naissance   pays  taille\n",
      "0   False  False           False  False   False\n",
      "1   False  False           False   True   False\n",
      "2   False  False           False  False   False\n",
      "3   False  False           False  False   False\n",
      "4   False  False           False  False   False\n",
      "5   False  False           False  False   False\n",
      "6   False  False            True  False   False\n"
     ]
    }
   ],
   "source": [
    "print(data.isnull())"
   ]
  },
  {
   "cell_type": "markdown",
   "id": "b98fed65",
   "metadata": {},
   "source": [
    "## 2 - Valeurs extremes"
   ]
  },
  {
   "cell_type": "raw",
   "id": "8e6e3f0f",
   "metadata": {},
   "source": [
    "Pour les valeurs extrêmes, des méthodes comme celles de l'écart interquartile ou du Z-score permettent assez facilement de mettre en valeur des outliers.\n",
    "- https://en.wikipedia.org/wiki/Interquartile_range\n",
    "- https://datascience.eu/fr/mathematiques-et-statistiques/quest-ce-quun-z-score/"
   ]
  },
  {
   "cell_type": "code",
   "execution_count": null,
   "id": "995900d7",
   "metadata": {},
   "outputs": [],
   "source": []
  },
  {
   "cell_type": "markdown",
   "id": "ba8cb7ea",
   "metadata": {},
   "source": [
    "## 3 - Doublons "
   ]
  },
  {
   "cell_type": "raw",
   "id": "edb865dd",
   "metadata": {},
   "source": [
    "Pour les doublons, l'utilisation de la méthode  .duplicated()  permet de vérifier si au sein d'une ou plusieurs variables, il existe des doublons. Cette méthode retournera  True  dans ce cas, et  False  sinon. Voilà un exemple avec l'e-mail, qui affichera l'ensemble des lignes concernées par un doublon sur la variable e-mail :"
   ]
  },
  {
   "cell_type": "code",
   "execution_count": 5,
   "id": "8e5d9e79",
   "metadata": {},
   "outputs": [
    {
     "data": {
      "text/html": [
       "<div>\n",
       "<style scoped>\n",
       "    .dataframe tbody tr th:only-of-type {\n",
       "        vertical-align: middle;\n",
       "    }\n",
       "\n",
       "    .dataframe tbody tr th {\n",
       "        vertical-align: top;\n",
       "    }\n",
       "\n",
       "    .dataframe thead th {\n",
       "        text-align: right;\n",
       "    }\n",
       "</style>\n",
       "<table border=\"1\" class=\"dataframe\">\n",
       "  <thead>\n",
       "    <tr style=\"text-align: right;\">\n",
       "      <th></th>\n",
       "      <th>prenom</th>\n",
       "      <th>email</th>\n",
       "      <th>date_naissance</th>\n",
       "      <th>pays</th>\n",
       "      <th>taille</th>\n",
       "    </tr>\n",
       "  </thead>\n",
       "  <tbody>\n",
       "    <tr>\n",
       "      <th>1</th>\n",
       "      <td>Samuel</td>\n",
       "      <td>samuel_329@example.com</td>\n",
       "      <td>20/09/2001</td>\n",
       "      <td>NaN</td>\n",
       "      <td>1.67m</td>\n",
       "    </tr>\n",
       "    <tr>\n",
       "      <th>6</th>\n",
       "      <td>samuël</td>\n",
       "      <td>samuel_329@example.com</td>\n",
       "      <td>NaN</td>\n",
       "      <td>Bénin</td>\n",
       "      <td>1.45m</td>\n",
       "    </tr>\n",
       "  </tbody>\n",
       "</table>\n",
       "</div>"
      ],
      "text/plain": [
       "   prenom                   email date_naissance   pays taille\n",
       "1  Samuel  samuel_329@example.com     20/09/2001    NaN  1.67m\n",
       "6  samuël  samuel_329@example.com            NaN  Bénin  1.45m"
      ]
     },
     "execution_count": 5,
     "metadata": {},
     "output_type": "execute_result"
    }
   ],
   "source": [
    "data.loc[data['email'].duplicated(keep=False),:]"
   ]
  },
  {
   "cell_type": "code",
   "execution_count": 6,
   "id": "eb72c29e",
   "metadata": {},
   "outputs": [
    {
     "data": {
      "text/plain": [
       "0    False\n",
       "1     True\n",
       "2    False\n",
       "3    False\n",
       "4    False\n",
       "5    False\n",
       "6     True\n",
       "Name: email, dtype: bool"
      ]
     },
     "execution_count": 6,
     "metadata": {},
     "output_type": "execute_result"
    }
   ],
   "source": [
    "data['email'].duplicated(keep=False)"
   ]
  },
  {
   "cell_type": "code",
   "execution_count": 7,
   "id": "c63cfe0c",
   "metadata": {},
   "outputs": [
    {
     "data": {
      "text/plain": [
       "0    False\n",
       "1    False\n",
       "2    False\n",
       "3    False\n",
       "4    False\n",
       "5    False\n",
       "6     True\n",
       "Name: email, dtype: bool"
      ]
     },
     "execution_count": 7,
     "metadata": {},
     "output_type": "execute_result"
    }
   ],
   "source": [
    "data['email'].duplicated()"
   ]
  },
  {
   "cell_type": "code",
   "execution_count": 9,
   "id": "b3ee71a6",
   "metadata": {},
   "outputs": [
    {
     "data": {
      "text/html": [
       "<div>\n",
       "<style scoped>\n",
       "    .dataframe tbody tr th:only-of-type {\n",
       "        vertical-align: middle;\n",
       "    }\n",
       "\n",
       "    .dataframe tbody tr th {\n",
       "        vertical-align: top;\n",
       "    }\n",
       "\n",
       "    .dataframe thead th {\n",
       "        text-align: right;\n",
       "    }\n",
       "</style>\n",
       "<table border=\"1\" class=\"dataframe\">\n",
       "  <thead>\n",
       "    <tr style=\"text-align: right;\">\n",
       "      <th></th>\n",
       "      <th>prenom</th>\n",
       "      <th>email</th>\n",
       "      <th>date_naissance</th>\n",
       "      <th>pays</th>\n",
       "      <th>taille</th>\n",
       "    </tr>\n",
       "  </thead>\n",
       "  <tbody>\n",
       "    <tr>\n",
       "      <th>1</th>\n",
       "      <td>Samuel</td>\n",
       "      <td>samuel_329@example.com</td>\n",
       "      <td>20/09/2001</td>\n",
       "      <td>NaN</td>\n",
       "      <td>1.67m</td>\n",
       "    </tr>\n",
       "    <tr>\n",
       "      <th>6</th>\n",
       "      <td>samuël</td>\n",
       "      <td>samuel_329@example.com</td>\n",
       "      <td>NaN</td>\n",
       "      <td>Bénin</td>\n",
       "      <td>1.45m</td>\n",
       "    </tr>\n",
       "  </tbody>\n",
       "</table>\n",
       "</div>"
      ],
      "text/plain": [
       "   prenom                   email date_naissance   pays taille\n",
       "1  Samuel  samuel_329@example.com     20/09/2001    NaN  1.67m\n",
       "6  samuël  samuel_329@example.com            NaN  Bénin  1.45m"
      ]
     },
     "execution_count": 9,
     "metadata": {},
     "output_type": "execute_result"
    }
   ],
   "source": [
    "data.loc[data['email'].duplicated(keep=False),]"
   ]
  },
  {
   "cell_type": "raw",
   "id": "5e15d580",
   "metadata": {},
   "source": [
    "Pour le reste des erreurs, il n'y a malheureusement pas de solution magique. Il faudra généralement créer des fonctions spécifiques pour identifier les différentes erreurs. Par exemple, pour une erreur de formatage, on peut fixer un format et cibler l'ensemble des valeurs qui ne rentrent pas dans ce format."
   ]
  },
  {
   "cell_type": "markdown",
   "id": "79496ff8",
   "metadata": {},
   "source": [
    "## Modifier une variable (Colonne)"
   ]
  },
  {
   "cell_type": "raw",
   "id": "8d3c89fd",
   "metadata": {},
   "source": [
    "Ici, on cherche à remplacer les valeurs de la colonne (ou variable)  nom_colonne. Si le dataframe a 7 lignes, alors la colonne  nom_colonne  contient 7 valeurs. Pour les remplacer,  nouvelle_colonne  doit ainsi être une liste de 7 valeurs."
   ]
  },
  {
   "cell_type": "raw",
   "id": "e5e458ed",
   "metadata": {},
   "source": [
    "data['nom_colonne'] = nouvelle_colonne"
   ]
  },
  {
   "cell_type": "raw",
   "id": "72cfe259",
   "metadata": {},
   "source": [
    "Il se peut qu'à certains moments, on ne souhaite pas modifier l'entièreté de la colonne mais seulement une partie, comme l'ensemble des valeurs satisfaisant une certaine condition. Pour cela, le plus simple reste de stocker la condition dans un mask, qui pourra ensuite être utilisé :"
   ]
  },
  {
   "cell_type": "raw",
   "id": "d862be3f",
   "metadata": {},
   "source": [
    "mask = # condition à vérifier pour cibler spécifiquement certaines lignes\n",
    "data.loc[mask, 'ma_colonne'] = nouvelles_valeurs"
   ]
  },
  {
   "cell_type": "raw",
   "id": "3fe075ec",
   "metadata": {},
   "source": [
    "Dans l'exemple ci-dessus, on a stocké une condition dans la variable  mask(comme par exemple :  data['email'].duplicated(keep=False)  pour reprendre l'exemple ci-dessus). ma_colonne  correspond forcément à une colonne existante, et seules les lignes satisfaisant la condition stockée dans mask au sein de cette colonne verront leurs valeurs modifiées. Naturellement et comme précédemment, si votre condition ne concerne que 4 valeurs, il faudra également que  nouvelles_valeurs  soit une liste de 4 valeurs"
   ]
  },
  {
   "cell_type": "markdown",
   "id": "b1ebceae",
   "metadata": {},
   "source": [
    "## 4 - Erreurs lexicales"
   ]
  },
  {
   "cell_type": "raw",
   "id": "fc4a4fab",
   "metadata": {},
   "source": [
    "Pour les pays, nous avions un problème majeur qui était la valeur 24 , à la 5e ligne. La première approche pourrait être de considérer que l'ensemble de mes pays doivent être des chaînes de caractères, et donc que toutes les valeurs numériques doivent être remplacées par des valeurs manquantes. Mais pour faire la chose encore plus \"proprement\", on pourrait définir une liste de pays valides, et remplacer toutes les valeurs qui ne concordent pas avec la liste par des valeurs manquantes :"
   ]
  },
  {
   "cell_type": "code",
   "execution_count": 26,
   "id": "81e1bbd9",
   "metadata": {},
   "outputs": [],
   "source": [
    "VALID_COUNTRIES = ['France', 'Côte d\\'ivoire', 'Madagascar', 'Bénin', 'Allemagne'\n",
    "                  , 'USA']\n",
    "mask = ~data['pays'].isin(VALID_COUNTRIES)\n",
    "data.loc[mask, 'pays'] = np.NaN"
   ]
  },
  {
   "cell_type": "raw",
   "id": "ae984023",
   "metadata": {},
   "source": [
    "Ici, ma condition utilisant  .isin()  renvoie True si la valeur est dans la liste passée en paramètre (donc ici  VALID_COUNTRIES  ), False sinon : ainsi, le  .loc()  permet de ne sélectionner que les lignes dont le pays est dans la liste définie."
   ]
  },
  {
   "cell_type": "raw",
   "id": "4aa4604e",
   "metadata": {},
   "source": [
    "Grace au symbole  ~  placé en amont de la condition. Ce dernier permet de prendre l'exact inverse de la condition, donc ici, l'ensemble des lignes dont le pays n'est pas dans la liste définie. On remplace ensuite l'ensemble des valeurs de pays de ces lignes par np.NaN  , qui est la valeur utilisée par les librairies  Numpy  et  Pandas  pour spécifier qu'une valeur est inconnue. C'est en quelque sorte un équivalent de  None  ."
   ]
  },
  {
   "cell_type": "code",
   "execution_count": 27,
   "id": "c3fbecbe",
   "metadata": {},
   "outputs": [
    {
     "data": {
      "text/html": [
       "<div>\n",
       "<style scoped>\n",
       "    .dataframe tbody tr th:only-of-type {\n",
       "        vertical-align: middle;\n",
       "    }\n",
       "\n",
       "    .dataframe tbody tr th {\n",
       "        vertical-align: top;\n",
       "    }\n",
       "\n",
       "    .dataframe thead th {\n",
       "        text-align: right;\n",
       "    }\n",
       "</style>\n",
       "<table border=\"1\" class=\"dataframe\">\n",
       "  <thead>\n",
       "    <tr style=\"text-align: right;\">\n",
       "      <th></th>\n",
       "      <th>prenom</th>\n",
       "      <th>email</th>\n",
       "      <th>date_naissance</th>\n",
       "      <th>pays</th>\n",
       "      <th>taille</th>\n",
       "    </tr>\n",
       "  </thead>\n",
       "  <tbody>\n",
       "    <tr>\n",
       "      <th>0</th>\n",
       "      <td>Leila</td>\n",
       "      <td>leila@example.com</td>\n",
       "      <td>23/01/1990</td>\n",
       "      <td>France</td>\n",
       "      <td>1.49m</td>\n",
       "    </tr>\n",
       "    <tr>\n",
       "      <th>1</th>\n",
       "      <td>Samuel</td>\n",
       "      <td>samuel_329@example.com</td>\n",
       "      <td>20/09/2001</td>\n",
       "      <td>NaN</td>\n",
       "      <td>1.67m</td>\n",
       "    </tr>\n",
       "    <tr>\n",
       "      <th>2</th>\n",
       "      <td>Radia</td>\n",
       "      <td>choupipoune@supermail.eu</td>\n",
       "      <td>12 sept. 1984</td>\n",
       "      <td>Côte d'ivoire</td>\n",
       "      <td>153cm</td>\n",
       "    </tr>\n",
       "    <tr>\n",
       "      <th>3</th>\n",
       "      <td>Marc</td>\n",
       "      <td>marco23@example.com, mc23@supermail.eu</td>\n",
       "      <td>10/02/1978</td>\n",
       "      <td>France</td>\n",
       "      <td>1.65m</td>\n",
       "    </tr>\n",
       "    <tr>\n",
       "      <th>4</th>\n",
       "      <td>Heri</td>\n",
       "      <td>helloworld@supermail.eu</td>\n",
       "      <td>05/03/2008</td>\n",
       "      <td>Madagascar</td>\n",
       "      <td>1.34m</td>\n",
       "    </tr>\n",
       "    <tr>\n",
       "      <th>5</th>\n",
       "      <td>Hanna</td>\n",
       "      <td>hanna2019@supermail.eu</td>\n",
       "      <td>01/01/1970</td>\n",
       "      <td>NaN</td>\n",
       "      <td>3.45m</td>\n",
       "    </tr>\n",
       "    <tr>\n",
       "      <th>6</th>\n",
       "      <td>samuël</td>\n",
       "      <td>samuel_329@example.com</td>\n",
       "      <td>NaN</td>\n",
       "      <td>Bénin</td>\n",
       "      <td>1.45m</td>\n",
       "    </tr>\n",
       "  </tbody>\n",
       "</table>\n",
       "</div>"
      ],
      "text/plain": [
       "   prenom                                   email date_naissance  \\\n",
       "0   Leila                       leila@example.com     23/01/1990   \n",
       "1  Samuel                  samuel_329@example.com     20/09/2001   \n",
       "2   Radia                choupipoune@supermail.eu  12 sept. 1984   \n",
       "3    Marc  marco23@example.com, mc23@supermail.eu     10/02/1978   \n",
       "4    Heri                 helloworld@supermail.eu     05/03/2008   \n",
       "5   Hanna                  hanna2019@supermail.eu     01/01/1970   \n",
       "6  samuël                  samuel_329@example.com            NaN   \n",
       "\n",
       "            pays taille  \n",
       "0         France  1.49m  \n",
       "1            NaN  1.67m  \n",
       "2  Côte d'ivoire  153cm  \n",
       "3         France  1.65m  \n",
       "4     Madagascar  1.34m  \n",
       "5            NaN  3.45m  \n",
       "6          Bénin  1.45m  "
      ]
     },
     "execution_count": 27,
     "metadata": {},
     "output_type": "execute_result"
    }
   ],
   "source": [
    "data ##"
   ]
  },
  {
   "cell_type": "markdown",
   "id": "9383ff9f",
   "metadata": {},
   "source": [
    "## 5 - Erreurs de formattage"
   ]
  },
  {
   "cell_type": "raw",
   "id": "a705e15d",
   "metadata": {},
   "source": [
    "Au tour des e-mails, maintenant ! Le problème avec cette colonne, c'est qu'il y a parfois 2 adresses e-mail par ligne. Nous ne souhaitons prendre que la première. Nous pouvons là aussi utiliser les outils fournis par Pandas pour faire cela :"
   ]
  },
  {
   "cell_type": "code",
   "execution_count": 28,
   "id": "31f98170",
   "metadata": {},
   "outputs": [
    {
     "data": {
      "text/plain": [
       "0                         leila@example.com\n",
       "1                    samuel_329@example.com\n",
       "2                  choupipoune@supermail.eu\n",
       "3    marco23@example.com, mc23@supermail.eu\n",
       "4                   helloworld@supermail.eu\n",
       "5                    hanna2019@supermail.eu\n",
       "6                    samuel_329@example.com\n",
       "Name: email, dtype: object"
      ]
     },
     "execution_count": 28,
     "metadata": {},
     "output_type": "execute_result"
    }
   ],
   "source": [
    "data['email'] "
   ]
  },
  {
   "cell_type": "code",
   "execution_count": 29,
   "id": "51f10a3e",
   "metadata": {},
   "outputs": [
    {
     "data": {
      "text/plain": [
       "0                          [leila@example.com]\n",
       "1                     [samuel_329@example.com]\n",
       "2                   [choupipoune@supermail.eu]\n",
       "3    [marco23@example.com,  mc23@supermail.eu]\n",
       "4                    [helloworld@supermail.eu]\n",
       "5                     [hanna2019@supermail.eu]\n",
       "6                     [samuel_329@example.com]\n",
       "Name: email, dtype: object"
      ]
     },
     "execution_count": 29,
     "metadata": {},
     "output_type": "execute_result"
    }
   ],
   "source": [
    "data['email'].str.split(',')"
   ]
  },
  {
   "cell_type": "code",
   "execution_count": 30,
   "id": "cf0d1541",
   "metadata": {},
   "outputs": [
    {
     "data": {
      "text/plain": [
       "0           leila@example.com\n",
       "1      samuel_329@example.com\n",
       "2    choupipoune@supermail.eu\n",
       "3         marco23@example.com\n",
       "4     helloworld@supermail.eu\n",
       "5      hanna2019@supermail.eu\n",
       "6      samuel_329@example.com\n",
       "Name: 0, dtype: object"
      ]
     },
     "execution_count": 30,
     "metadata": {},
     "output_type": "execute_result"
    }
   ],
   "source": [
    "data['email'].str.split(',', n=1, expand=True)[0]"
   ]
  },
  {
   "cell_type": "code",
   "execution_count": 31,
   "id": "4e567d37",
   "metadata": {},
   "outputs": [],
   "source": [
    "data['email'] = data['email'].str.split(',', n=1, expand=True)[0]"
   ]
  },
  {
   "cell_type": "code",
   "execution_count": 32,
   "id": "19c1379b",
   "metadata": {},
   "outputs": [
    {
     "data": {
      "text/html": [
       "<div>\n",
       "<style scoped>\n",
       "    .dataframe tbody tr th:only-of-type {\n",
       "        vertical-align: middle;\n",
       "    }\n",
       "\n",
       "    .dataframe tbody tr th {\n",
       "        vertical-align: top;\n",
       "    }\n",
       "\n",
       "    .dataframe thead th {\n",
       "        text-align: right;\n",
       "    }\n",
       "</style>\n",
       "<table border=\"1\" class=\"dataframe\">\n",
       "  <thead>\n",
       "    <tr style=\"text-align: right;\">\n",
       "      <th></th>\n",
       "      <th>prenom</th>\n",
       "      <th>email</th>\n",
       "      <th>date_naissance</th>\n",
       "      <th>pays</th>\n",
       "      <th>taille</th>\n",
       "    </tr>\n",
       "  </thead>\n",
       "  <tbody>\n",
       "    <tr>\n",
       "      <th>0</th>\n",
       "      <td>Leila</td>\n",
       "      <td>leila@example.com</td>\n",
       "      <td>23/01/1990</td>\n",
       "      <td>France</td>\n",
       "      <td>1.49m</td>\n",
       "    </tr>\n",
       "    <tr>\n",
       "      <th>1</th>\n",
       "      <td>Samuel</td>\n",
       "      <td>samuel_329@example.com</td>\n",
       "      <td>20/09/2001</td>\n",
       "      <td>NaN</td>\n",
       "      <td>1.67m</td>\n",
       "    </tr>\n",
       "    <tr>\n",
       "      <th>2</th>\n",
       "      <td>Radia</td>\n",
       "      <td>choupipoune@supermail.eu</td>\n",
       "      <td>12 sept. 1984</td>\n",
       "      <td>Côte d'ivoire</td>\n",
       "      <td>153cm</td>\n",
       "    </tr>\n",
       "    <tr>\n",
       "      <th>3</th>\n",
       "      <td>Marc</td>\n",
       "      <td>marco23@example.com</td>\n",
       "      <td>10/02/1978</td>\n",
       "      <td>France</td>\n",
       "      <td>1.65m</td>\n",
       "    </tr>\n",
       "    <tr>\n",
       "      <th>4</th>\n",
       "      <td>Heri</td>\n",
       "      <td>helloworld@supermail.eu</td>\n",
       "      <td>05/03/2008</td>\n",
       "      <td>Madagascar</td>\n",
       "      <td>1.34m</td>\n",
       "    </tr>\n",
       "    <tr>\n",
       "      <th>5</th>\n",
       "      <td>Hanna</td>\n",
       "      <td>hanna2019@supermail.eu</td>\n",
       "      <td>01/01/1970</td>\n",
       "      <td>NaN</td>\n",
       "      <td>3.45m</td>\n",
       "    </tr>\n",
       "    <tr>\n",
       "      <th>6</th>\n",
       "      <td>samuël</td>\n",
       "      <td>samuel_329@example.com</td>\n",
       "      <td>NaN</td>\n",
       "      <td>Bénin</td>\n",
       "      <td>1.45m</td>\n",
       "    </tr>\n",
       "  </tbody>\n",
       "</table>\n",
       "</div>"
      ],
      "text/plain": [
       "   prenom                     email date_naissance           pays taille\n",
       "0   Leila         leila@example.com     23/01/1990         France  1.49m\n",
       "1  Samuel    samuel_329@example.com     20/09/2001            NaN  1.67m\n",
       "2   Radia  choupipoune@supermail.eu  12 sept. 1984  Côte d'ivoire  153cm\n",
       "3    Marc       marco23@example.com     10/02/1978         France  1.65m\n",
       "4    Heri   helloworld@supermail.eu     05/03/2008     Madagascar  1.34m\n",
       "5   Hanna    hanna2019@supermail.eu     01/01/1970            NaN  3.45m\n",
       "6  samuël    samuel_329@example.com            NaN          Bénin  1.45m"
      ]
     },
     "execution_count": 32,
     "metadata": {},
     "output_type": "execute_result"
    }
   ],
   "source": [
    "data"
   ]
  },
  {
   "cell_type": "raw",
   "id": "2e7d27cf",
   "metadata": {},
   "source": [
    "Lorsqu'il y a plusieurs e-mails par ligne, ceux-ci sont séparés par des virgules. Nous séparons donc la chaîne de caractères de la variable e-mail, selon les virgules grâce à la méthode split. Il y a cependant quelques arguments que nous allons ici expliciter :\n",
    "\n",
    "--> ','  correspond au caractère qui va nous permettre de séparer notre chaîne de caractères.\n",
    "\n",
    "-->n=1  correspond au nombre de fois où notre chaîne de caractères va être séparée. Ici nous le fixons à une fois, car nous ne souhaitons conserver qu'un seul e-mail : le premier rencontré. Le reste n'est finalement que peu intéressant.\n",
    "\n",
    "-->expand=True  permet de placer les différentes séparations en plusieurs colonnes."
   ]
  },
  {
   "cell_type": "markdown",
   "id": "6731cf47",
   "metadata": {},
   "source": [
    "## 6 - Erreur d'irrégularité"
   ]
  },
  {
   "cell_type": "raw",
   "id": "91f36dfc",
   "metadata": {},
   "source": [
    " Nous aurons besoin d'effectuer deux opérations :\n",
    "\n",
    "Convertir les tailles en nombres décimaux. Nous en profiterons pour remplacer l'ensemble des tailles non conformes par des valeurs manquantes.\n",
    "\n",
    "Remplacer les valeurs manquantes par la moyenne de notre échantillon.\n",
    "\n",
    "Pour la première étape, comme l'ensemble de nos valeurs sont censées avoir pour format X.XXm (avec X correspondant à un chiffre), on peut par exemple supprimer le dernier caractère de la colonne et convertir l'ensemble de la colonne en numérique. Ce faisant, les valeurs non valides seront automatiquement remplacées par des valeurs manquantes, via l'argument  errors  que nous spécifions :"
   ]
  },
  {
   "cell_type": "code",
   "execution_count": 34,
   "id": "a0e4b7aa",
   "metadata": {},
   "outputs": [],
   "source": [
    "data['taille'] = data['taille'].str[:-1]\n",
    "data['taille'] = pd.to_numeric(data['taille'], errors='coerce')"
   ]
  },
  {
   "cell_type": "raw",
   "id": "5e46582a",
   "metadata": {},
   "source": [
    "L'argument errors permet de définir comment Python doit réagir lorsqu'il n'arrive pas à correctement convertir, ce qui correspond aux erreurs dans notre colonne. Il existe différentes options, mais  'coerce'   permet de remplacer l'ensemble des erreurs par des valeurs manquantes."
   ]
  },
  {
   "cell_type": "raw",
   "id": "440ab609",
   "metadata": {},
   "source": [
    "Ensuite, il faut à présent remplacer les valeurs manquantes par la moyenne de la variable. Cette simple ligne permettra de faire cela :"
   ]
  },
  {
   "cell_type": "code",
   "execution_count": 35,
   "id": "3381fd02",
   "metadata": {},
   "outputs": [
    {
     "data": {
      "text/plain": [
       "0    1.49\n",
       "1    1.67\n",
       "2     NaN\n",
       "3    1.65\n",
       "4    1.34\n",
       "5    3.45\n",
       "6    1.45\n",
       "Name: taille, dtype: float64"
      ]
     },
     "execution_count": 35,
     "metadata": {},
     "output_type": "execute_result"
    }
   ],
   "source": [
    "data['taille'] "
   ]
  },
  {
   "cell_type": "code",
   "execution_count": 36,
   "id": "3bc445b2",
   "metadata": {},
   "outputs": [],
   "source": [
    "data.loc[data['taille'].isnull(), 'taille'] = data['taille'].mean()"
   ]
  },
  {
   "cell_type": "code",
   "execution_count": 37,
   "id": "24f424e8",
   "metadata": {},
   "outputs": [
    {
     "data": {
      "text/plain": [
       "0    1.490000\n",
       "1    1.670000\n",
       "2    1.841667\n",
       "3    1.650000\n",
       "4    1.340000\n",
       "5    3.450000\n",
       "6    1.450000\n",
       "Name: taille, dtype: float64"
      ]
     },
     "execution_count": 37,
     "metadata": {},
     "output_type": "execute_result"
    }
   ],
   "source": [
    "data['taille']"
   ]
  },
  {
   "cell_type": "markdown",
   "id": "4558e42a",
   "metadata": {},
   "source": [
    "## 7 -  Erreurs de formattage"
   ]
  },
  {
   "cell_type": "raw",
   "id": "a825a671",
   "metadata": {},
   "source": [
    "Dernier sujet à traiter, et pas des moindres : les dates ! Ici, nous allons simplement spécifier un certain format de date, et transformer notre variable dans un type adéquat :"
   ]
  },
  {
   "cell_type": "code",
   "execution_count": 38,
   "id": "7a541241",
   "metadata": {},
   "outputs": [
    {
     "data": {
      "text/plain": [
       "0       23/01/1990\n",
       "1       20/09/2001\n",
       "2    12 sept. 1984\n",
       "3       10/02/1978\n",
       "4       05/03/2008\n",
       "5       01/01/1970\n",
       "6              NaN\n",
       "Name: date_naissance, dtype: object"
      ]
     },
     "execution_count": 38,
     "metadata": {},
     "output_type": "execute_result"
    }
   ],
   "source": [
    "data['date_naissance']"
   ]
  },
  {
   "cell_type": "code",
   "execution_count": 39,
   "id": "87d8b31f",
   "metadata": {},
   "outputs": [],
   "source": [
    "data['date_naissance'] = pd.to_datetime(data['date_naissance'], format='%d/%m/%Y', errors='coerce')"
   ]
  },
  {
   "cell_type": "code",
   "execution_count": 40,
   "id": "4fcd96df",
   "metadata": {},
   "outputs": [
    {
     "data": {
      "text/plain": [
       "0   1990-01-23\n",
       "1   2001-09-20\n",
       "2          NaT\n",
       "3   1978-02-10\n",
       "4   2008-03-05\n",
       "5   1970-01-01\n",
       "6          NaT\n",
       "Name: date_naissance, dtype: datetime64[ns]"
      ]
     },
     "execution_count": 40,
     "metadata": {},
     "output_type": "execute_result"
    }
   ],
   "source": [
    "data['date_naissance']"
   ]
  },
  {
   "cell_type": "code",
   "execution_count": null,
   "id": "d926a2de",
   "metadata": {},
   "outputs": [],
   "source": []
  }
 ],
 "metadata": {
  "kernelspec": {
   "display_name": "Python 3 (ipykernel)",
   "language": "python",
   "name": "python3"
  },
  "language_info": {
   "codemirror_mode": {
    "name": "ipython",
    "version": 3
   },
   "file_extension": ".py",
   "mimetype": "text/x-python",
   "name": "python",
   "nbconvert_exporter": "python",
   "pygments_lexer": "ipython3",
   "version": "3.9.13"
  }
 },
 "nbformat": 4,
 "nbformat_minor": 5
}
