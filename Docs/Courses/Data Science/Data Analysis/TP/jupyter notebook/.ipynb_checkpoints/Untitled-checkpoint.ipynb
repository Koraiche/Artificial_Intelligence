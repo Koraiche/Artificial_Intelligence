{
 "cells": [
  {
   "cell_type": "code",
   "execution_count": 1,
   "id": "4cc5478f",
   "metadata": {},
   "outputs": [
    {
     "ename": "ModuleNotFoundError",
     "evalue": "No module named 'lime'",
     "output_type": "error",
     "traceback": [
      "\u001b[1;31m---------------------------------------------------------------------------\u001b[0m",
      "\u001b[1;31mModuleNotFoundError\u001b[0m                       Traceback (most recent call last)",
      "\u001b[1;32m~\\AppData\\Local\\Temp\\ipykernel_22636\\2597945390.py\u001b[0m in \u001b[0;36m<module>\u001b[1;34m\u001b[0m\n\u001b[1;32m----> 1\u001b[1;33m \u001b[1;32mimport\u001b[0m \u001b[0mlime\u001b[0m\u001b[1;33m\u001b[0m\u001b[1;33m\u001b[0m\u001b[0m\n\u001b[0m\u001b[0;32m      2\u001b[0m \u001b[1;32mimport\u001b[0m \u001b[0mlime\u001b[0m\u001b[1;33m.\u001b[0m\u001b[0mlime_tabular\u001b[0m\u001b[1;33m\u001b[0m\u001b[1;33m\u001b[0m\u001b[0m\n\u001b[0;32m      3\u001b[0m \u001b[1;32mimport\u001b[0m \u001b[0mpandas\u001b[0m \u001b[1;32mas\u001b[0m \u001b[0mpd\u001b[0m\u001b[1;33m\u001b[0m\u001b[1;33m\u001b[0m\u001b[0m\n\u001b[0;32m      4\u001b[0m \u001b[1;32mfrom\u001b[0m \u001b[0msklearn\u001b[0m\u001b[1;33m.\u001b[0m\u001b[0mensemble\u001b[0m \u001b[1;32mimport\u001b[0m \u001b[0mRandomForestClassifier\u001b[0m\u001b[1;33m\u001b[0m\u001b[1;33m\u001b[0m\u001b[0m\n\u001b[0;32m      5\u001b[0m \u001b[1;32mfrom\u001b[0m \u001b[0msklearn\u001b[0m\u001b[1;33m.\u001b[0m\u001b[0mmodel_selection\u001b[0m \u001b[1;32mimport\u001b[0m \u001b[0mtrain_test_split\u001b[0m\u001b[1;33m\u001b[0m\u001b[1;33m\u001b[0m\u001b[0m\n",
      "\u001b[1;31mModuleNotFoundError\u001b[0m: No module named 'lime'"
     ]
    }
   ],
   "source": [
    "import lime\n",
    "import lime.lime_tabular\n",
    "import pandas as pd\n",
    "from sklearn.ensemble import RandomForestClassifier\n",
    "from sklearn.model_selection import train_test_split\n",
    "from pdpbox import pdp, get_dataset, info_plots\n",
    "import numpy as np\n",
    "import pandas as pd\n",
    "from matplotlib import pyplot as plt\n",
    "from sklearn.model_selection import train_test_split\n",
    "from sklearn.tree import DecisionTreeClassifier\n",
    "from sklearn import tree\n",
    "import graphviz\n",
    "from pdpbox import pdp, get_dataset, info_plots\n",
    "from category_encoders import TargetEncoder\n",
    "from sklearn import metrics\n",
    "\n",
    "\n",
    "# Read the data\n",
    "types = {'MNT_FACTURE': float, 'QUANTITE': int, 'VALEUR_ACQUISITION': float, 'TAUX_TVA': int, 'DOTATION': float,\n",
    "         'VNC': float, 'VALEUR_A_AMORTIR': float, 'Cédé': str}\n",
    "parse_dates = ['DATE_PIECECOMPTABLE', 'DATELIVRAISON']\n",
    "data = pd.read_csv('EXPORT_IMMO_V1.csv', encoding=\"ISO-8859-1\", parse_dates=parse_dates, dtype=types, thousands=',')\n",
    "data1 = pd.read_csv('EXPORT_IMMO_V.csv', encoding=\"ISO-8859-1\", parse_dates=parse_dates, dtype=types, thousands=',')\n",
    "\n",
    "data = pd.concat([data, data1])\n",
    "y = (data['Cédé'] == \"OUI\")  # Convert from string \"Yes\"/\"No\" to binary\n",
    "#y = data['Cédé']\n",
    "X = data.drop(['Cédé'], axis=1)\n",
    "#y = data[\"Cédé\"]\n",
    "\n",
    "# Select categorical columns\n",
    "categorical_cols = ['LIBELLE_COMPOSANT', 'TYPEPIECECOMPTABLE', 'ENTITE', 'FACTURE_RAPPROCHEE', 'FOURNISSEUR', 'MARQUE',\n",
    "                    'MODELE', 'CAB_ARTICLE']\n",
    "\n",
    "encoder = TargetEncoder()\n",
    "X[categorical_cols] = encoder.fit_transform(X[categorical_cols], y)\n",
    "\n",
    "X = X.drop(['DATE_PIECECOMPTABLE', 'DATELIVRAISON'], axis=1)\n",
    "\n",
    "X_train, X_test, y_train, y_test = train_test_split(X, y, random_state=0)\n",
    "\n",
    "forest_model = RandomForestClassifier(random_state=42)\n",
    "forest_model.fit(X_train, y_train)\n",
    "\n",
    "y_pred=forest_model.predict(X_test)\n",
    "#print(metrics.accuracy_score(y_test, y_pred))\n",
    "\n",
    "# LIME has one explainer for all the models\n",
    "explainer = lime.lime_tabular.LimeTabularExplainer(X_train.values, feature_names=X_train.columns.values.tolist(),\n",
    "                                                   class_names=['False','True'], verbose=True, mode='classification')\n",
    "print(y_test)\n",
    "j = 26543\n",
    "exp = explainer.explain_instance(X_test.loc[j], forest_model.predict_proba)\n",
    "\n",
    "# Show the predictions\n",
    "exp.show_in_notebook(show_table=True)\n",
    "exp.as_list()"
   ]
  },
  {
   "cell_type": "code",
   "execution_count": null,
   "id": "48561e84",
   "metadata": {},
   "outputs": [],
   "source": []
  },
  {
   "cell_type": "code",
   "execution_count": null,
   "id": "db09aae8",
   "metadata": {},
   "outputs": [],
   "source": []
  }
 ],
 "metadata": {
  "kernelspec": {
   "display_name": "Python 3 (ipykernel)",
   "language": "python",
   "name": "python3"
  },
  "language_info": {
   "codemirror_mode": {
    "name": "ipython",
    "version": 3
   },
   "file_extension": ".py",
   "mimetype": "text/x-python",
   "name": "python",
   "nbconvert_exporter": "python",
   "pygments_lexer": "ipython3",
   "version": "3.9.13"
  }
 },
 "nbformat": 4,
 "nbformat_minor": 5
}
