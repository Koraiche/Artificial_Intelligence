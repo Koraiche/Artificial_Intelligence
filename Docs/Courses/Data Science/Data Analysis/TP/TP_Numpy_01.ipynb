{
 "cells": [
  {
   "cell_type": "markdown",
   "id": "13b78fd5",
   "metadata": {},
   "source": [
    "## Creez une liste Python"
   ]
  },
  {
   "cell_type": "code",
   "execution_count": 9,
   "id": "a8d04176",
   "metadata": {},
   "outputs": [],
   "source": [
    "revenus = [1800, 1500, 2200, 3000, 2172]"
   ]
  },
  {
   "cell_type": "code",
   "execution_count": 10,
   "id": "2e12fe5b",
   "metadata": {},
   "outputs": [
    {
     "name": "stdout",
     "output_type": "stream",
     "text": [
      "[1800, 1500, 2200, 3000, 2172]\n"
     ]
    }
   ],
   "source": [
    "print(revenus)"
   ]
  },
  {
   "cell_type": "code",
   "execution_count": 11,
   "id": "01b7f065",
   "metadata": {},
   "outputs": [
    {
     "name": "stdout",
     "output_type": "stream",
     "text": [
      "2134.4\n"
     ]
    }
   ],
   "source": [
    "#print(revenus.mean()) NOT WORKING\n",
    "import numpy as np\n",
    "print(np.mean(revenus))"
   ]
  },
  {
   "cell_type": "code",
   "execution_count": 12,
   "id": "b6b5745c",
   "metadata": {},
   "outputs": [
    {
     "name": "stdout",
     "output_type": "stream",
     "text": [
      "La valeur absolue:  [2 1 1 2]\n",
      "Exponentielle:  [0.13533528 0.36787944 2.71828183 7.3890561 ]\n",
      "Logarithme:  [0.69314718 0.         0.         0.69314718]\n"
     ]
    }
   ],
   "source": [
    "x = [-2, -1, 1, 2]\n",
    "print(\"La valeur absolue: \", np.abs(x))\n",
    "print(\"Exponentielle: \", np.exp(x))\n",
    "print(\"Logarithme: \", np.log(np.abs(x)))"
   ]
  },
  {
   "cell_type": "markdown",
   "id": "eaceb3d8",
   "metadata": {},
   "source": [
    "## Créez un array NumPy"
   ]
  },
  {
   "cell_type": "code",
   "execution_count": 13,
   "id": "c3a04c8f",
   "metadata": {},
   "outputs": [
    {
     "data": {
      "text/plain": [
       "array([1800, 1500, 2200, 3000, 2172])"
      ]
     },
     "execution_count": 13,
     "metadata": {},
     "output_type": "execute_result"
    }
   ],
   "source": [
    "revenus_array = np.array(revenus)\n",
    "revenus_array"
   ]
  },
  {
   "cell_type": "markdown",
   "id": "86a5240a",
   "metadata": {},
   "source": [
    "## Créez un array NumPy predefinis "
   ]
  },
  {
   "cell_type": "code",
   "execution_count": 14,
   "id": "1965bb58",
   "metadata": {},
   "outputs": [
    {
     "name": "stdout",
     "output_type": "stream",
     "text": [
      "[0. 0. 0. 0. 0. 0. 0. 0. 0. 0.]\n",
      "[1. 1. 1. 1. 1. 1. 1. 1. 1. 1.]\n",
      "[ 100  300  500  700  900 1100 1300 1500 1700 1900]\n",
      "[ 0.          8.55555556 17.11111111 25.66666667 34.22222222 42.77777778\n",
      " 51.33333333 59.88888889 68.44444444 77.        ]\n"
     ]
    }
   ],
   "source": [
    "print(np.zeros(10)) #: permet de créer un array rempli de 0, de n éléments ;\n",
    "print(np.ones(10)) # : similaire en tous points à la fonction présentée ci-dessus, à la différence que l’array sera rempli cette fois-ci de 1 ;\n",
    "print(np.arange(100, 2000, 200)) #  : permet de créer un array rempli avec une séquence linéaire, qui ira de  i  à  j, par pas de  p  ;\n",
    "print(np.linspace(0, 77, 10)) # : permet de créer un array de  n  valeurs espacées uniformément entre  i  et  j."
   ]
  },
  {
   "cell_type": "markdown",
   "id": "1308edba",
   "metadata": {},
   "source": [
    "## Créez un array monotype"
   ]
  },
  {
   "cell_type": "markdown",
   "id": "d31e83f8",
   "metadata": {},
   "source": [
    "Comme nous avons pu le voir précédemment, un array ne peut contenir qu’un seul et unique type. Vous pouvez accéder au type des éléments d’un array via la méthode  .dtype  :"
   ]
  },
  {
   "cell_type": "code",
   "execution_count": 15,
   "id": "16c2d493",
   "metadata": {},
   "outputs": [
    {
     "data": {
      "text/plain": [
       "dtype('int32')"
      ]
     },
     "execution_count": 15,
     "metadata": {},
     "output_type": "execute_result"
    }
   ],
   "source": [
    "revenus_array.dtype\n",
    "# dtype('int32')"
   ]
  },
  {
   "cell_type": "markdown",
   "id": "58c3c0c9",
   "metadata": {},
   "source": [
    "## Sélectionnez des éléments au sein d’un array"
   ]
  },
  {
   "cell_type": "markdown",
   "id": "29eeb763",
   "metadata": {},
   "source": [
    "### Accédez à un seul élément"
   ]
  },
  {
   "cell_type": "code",
   "execution_count": 17,
   "id": "b2e5cf80",
   "metadata": {},
   "outputs": [
    {
     "name": "stdout",
     "output_type": "stream",
     "text": [
      "2172\n",
      "2172\n",
      "1900\n"
     ]
    }
   ],
   "source": [
    "print(revenus_array[4])  # pour accéder au 5ème élement\n",
    "print(revenus_array[-1]) # pour accéder au dernier élément\n",
    "revenus_array[1] = 1900# On peut aussi modifier les valeurs\n",
    "print(revenus_array[1])"
   ]
  },
  {
   "cell_type": "markdown",
   "id": "19ef85f6",
   "metadata": {},
   "source": [
    "### Accédez à plusieurs éléments contigus"
   ]
  },
  {
   "cell_type": "markdown",
   "id": "f1be6565",
   "metadata": {},
   "source": [
    "Nous pouvons accéder à un ensemble d'éléments contigus en combinant []  et  : . La syntaxe suit une règle simple : nom_array[i:j:p] , avec :\n",
    "\n",
    "=> i  : l’indice du début.  \n",
    "=>j  : l’indice de fin.  \n",
    "=>p : le pas.  \n",
    "permettant de sélectionner tous les éléments compris entre l’indice  i  inclus, jusqu’à  j-1   – l’élément d’indice  j  est forcément exclu."
   ]
  },
  {
   "cell_type": "code",
   "execution_count": 18,
   "id": "898b0e7c",
   "metadata": {},
   "outputs": [
    {
     "data": {
      "text/plain": [
       "array([1800, 1900, 2200])"
      ]
     },
     "execution_count": 18,
     "metadata": {},
     "output_type": "execute_result"
    }
   ],
   "source": [
    "revenus_array[0:3] #permet de sélectionner, au sein de notre array  revenus_array , l’ensemble des éléments de l’indice 0 \n",
    "#(soit le premier élément) jusqu’à celui d’indice 2 (soit le troisième). L’élément d’indice 3 n’est pas inclus !\n",
    "#Si vous souhaitez également le sélectionner, il faudra ajouter 1 à l’indice de fin : revenus_array[0:4] ."
   ]
  },
  {
   "cell_type": "markdown",
   "id": "f29de0d2",
   "metadata": {},
   "source": [
    "Le début peut être omis si on veut commencer au début de la liste (c'est-à-dire si début = 0). La fin peut être omise si on veut aller jusqu'au bout de la liste (c'est-à-dire fin = -1 ou fin =  len(liste)  ). Le pas, ainsi que le dernier  :  , peuvent être omis si le pas est de 1 (-1 si la fin est inférieure au début)."
   ]
  },
  {
   "cell_type": "code",
   "execution_count": 29,
   "id": "3563d58d",
   "metadata": {},
   "outputs": [
    {
     "name": "stdout",
     "output_type": "stream",
     "text": [
      "[1800 1900 2200 3000 2172]\n",
      "[1800 1900 2200]\n",
      "[1800 1900 2200]\n",
      "[2200 3000 2172]\n",
      "[2200 3000 2172]\n",
      "[1800 2200 2172]\n",
      "[2172 3000 2200 1900 1800]\n"
     ]
    }
   ],
   "source": [
    "print(revenus_array)\n",
    "print(revenus_array[:3])# Les 3 premiers éléments\n",
    "print(revenus_array[0:3])# Les 3 premiers éléments\n",
    "print(revenus_array[2:]) # Les éléments à partir de l’indice 2\n",
    "print(revenus_array[2:len(revenus_array)]) # Les éléments à partir de l’indice 2\n",
    "print(revenus_array[::2]) # Un élément sur deux\n",
    "print(revenus_array[::-1]) # Reversed"
   ]
  },
  {
   "cell_type": "markdown",
   "id": "a1cf9f4e",
   "metadata": {},
   "source": [
    "### Accédez à plusieurs éléments selon une condition"
   ]
  },
  {
   "cell_type": "markdown",
   "id": "00c60515",
   "metadata": {},
   "source": [
    "On peut cependant souhaiter aller plus loin dans l’accès aux différents éléments. En effet, lors d’une étude de données on est régulièrement amené à devoir sélectionner une partie de nos données, selon un critère (ex. un genre spécifique) ou une condition (ex. toutes les personnes en dessous d’un certain âge). Les arrays NumPy permettent de faire cela !\n",
    "\n",
    "En effet, de la même façon qu’il est possible de sélectionner des éléments via leur indice, il est possible avec les arrays NumPy de renseigner la condition selon laquelle on souhaite sélectionner les éléments du tableau, avec l’écriture  nom_array[condition de sélection]  .\n",
    "\n",
    "Voilà par exemple comment sélectionner uniquement les valeurs supérieures à 2 000 € :"
   ]
  },
  {
   "cell_type": "code",
   "execution_count": 30,
   "id": "90ab64f3",
   "metadata": {},
   "outputs": [
    {
     "data": {
      "text/plain": [
       "array([2200, 3000, 2172])"
      ]
     },
     "execution_count": 30,
     "metadata": {},
     "output_type": "execute_result"
    }
   ],
   "source": [
    "revenus_array[revenus_array > 2000] # array([2200, 3000, 2172])"
   ]
  },
  {
   "cell_type": "markdown",
   "id": "1e7d1c58",
   "metadata": {},
   "source": [
    "Détaillons le fonctionnement de ce processus de sélection :\n",
    "\n",
    "tout d’abord, on cite explicitement le nom de l’array avant les crochets, pour spécifier dans quel array on souhaite effectuer la sélection ;\n",
    "\n",
    "ensuite, on spécifie à l’intérieur des crochets la condition. Le résultat de ce qui est à l’intérieur des crochets doit forcément être un array ou une liste de booléens ! Ici, si on exécute uniquement la condition  revenus_array > 2000 , vous verrez que vous aurez simplement un array contenant uniquement des booléens, avec True  lorsque la valeur satisfait la condition, False  sinon."
   ]
  },
  {
   "cell_type": "code",
   "execution_count": 32,
   "id": "131dd4e2",
   "metadata": {},
   "outputs": [
    {
     "name": "stdout",
     "output_type": "stream",
     "text": [
      "[False False  True  True  True]\n"
     ]
    }
   ],
   "source": [
    "print(revenus_array > 2000)"
   ]
  },
  {
   "cell_type": "code",
   "execution_count": 33,
   "id": "255dcc0f",
   "metadata": {},
   "outputs": [
    {
     "data": {
      "text/plain": [
       "array([2200, 3000, 2172])"
      ]
     },
     "execution_count": 33,
     "metadata": {},
     "output_type": "execute_result"
    }
   ],
   "source": [
    "revenus_array[[False, False,True,True,True]]"
   ]
  },
  {
   "cell_type": "code",
   "execution_count": 34,
   "id": "7d0ac865",
   "metadata": {},
   "outputs": [
    {
     "data": {
      "text/plain": [
       "array([2200, 2172])"
      ]
     },
     "execution_count": 34,
     "metadata": {},
     "output_type": "execute_result"
    }
   ],
   "source": [
    "revenus_array[(revenus_array > 2000) & (revenus_array < 3000)] # array([2200, 2172])"
   ]
  },
  {
   "cell_type": "markdown",
   "id": "9d03a9f9",
   "metadata": {},
   "source": [
    "Le et logique (respectivement ou logique) n’est pas matérialisé par le mot clé \"and\" (respectivement \"or\") comme dans une structure conditionnelle if  classique, mais par le symbole  &   (respectivement  \"|\"). De plus, chaque condition doit être absolument délimitée par des parenthèses, sous peine de rencontrer une erreur. Cette écriture s’explique par le fait qu’on ne compare pas des booléens, mais des arrays de booléens, terme à terme.  "
   ]
  },
  {
   "cell_type": "markdown",
   "id": "63b22b5c",
   "metadata": {},
   "source": [
    "### Accédez à plusieurs éléments selon une condition"
   ]
  },
  {
   "cell_type": "markdown",
   "id": "1b71e41f",
   "metadata": {},
   "source": [
    "Il est à noter que cette syntaxe ne permet pas uniquement de sélectionner des éléments, mais qu'elle peut également être utilisée pour modifier des éléments au sein d’un array. En effet, si vous exécutez :"
   ]
  },
  {
   "cell_type": "code",
   "execution_count": 35,
   "id": "bce2d37b",
   "metadata": {},
   "outputs": [
    {
     "name": "stdout",
     "output_type": "stream",
     "text": [
      "[1800 1900    0    0    0]\n"
     ]
    }
   ],
   "source": [
    "revenus_array[revenus_array > 2000] = 0 \n",
    "print(revenus_array)"
   ]
  },
  {
   "cell_type": "markdown",
   "id": "f7ae2598",
   "metadata": {},
   "source": [
    "vous remplacerez tous les éléments supérieurs à 2 000 au sein de notre array par 0. Il faut donc être vigilant en utilisant cette syntaxe, pour ne pas remplacer des valeurs qu’il n’aurait pas été souhaitable de remplacer."
   ]
  },
  {
   "cell_type": "markdown",
   "id": "61acb22a",
   "metadata": {},
   "source": [
    "### Utilisez les méthodes d’array"
   ]
  },
  {
   "cell_type": "code",
   "execution_count": 39,
   "id": "b0952e67",
   "metadata": {},
   "outputs": [
    {
     "name": "stdout",
     "output_type": "stream",
     "text": [
      "int32\n",
      "(5,)\n",
      "740.0\n",
      "0\n",
      "1900\n",
      "0\n",
      "4\n",
      "[   0    0    0 1800 1900]\n",
      "3700\n"
     ]
    }
   ],
   "source": [
    "print(revenus_array.dtype)\n",
    "print(revenus_array.shape) #accéder facilement aux dimensions de notre array \n",
    "print(revenus_array.mean()) #calculer la moyenne\n",
    "print(revenus_array.min()) #calculer le minimum\n",
    "print(revenus_array.max()) #calculer le maximum\n",
    "print(revenus_array.argmin()) #trouver lindice de lelement minimum\n",
    "print(revenus_array.argmax()) #trouver lindice de lelement maximum\n",
    "revenus_array ; revenus_array.sort(); print(revenus_array) #trie\n",
    "print(revenus_array.sum()) # somme"
   ]
  },
  {
   "cell_type": "code",
   "execution_count": null,
   "id": "3e380bce",
   "metadata": {},
   "outputs": [],
   "source": []
  }
 ],
 "metadata": {
  "kernelspec": {
   "display_name": "Python 3 (ipykernel)",
   "language": "python",
   "name": "python3"
  },
  "language_info": {
   "codemirror_mode": {
    "name": "ipython",
    "version": 3
   },
   "file_extension": ".py",
   "mimetype": "text/x-python",
   "name": "python",
   "nbconvert_exporter": "python",
   "pygments_lexer": "ipython3",
   "version": "3.7.13"
  }
 },
 "nbformat": 4,
 "nbformat_minor": 5
}
